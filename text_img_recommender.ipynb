{
 "cells": [
  {
   "cell_type": "code",
   "execution_count": 1,
   "id": "da434cf3",
   "metadata": {
    "execution": {
     "iopub.execute_input": "2022-03-02T12:42:44.559466Z",
     "iopub.status.busy": "2022-03-02T12:42:44.558220Z",
     "iopub.status.idle": "2022-03-02T12:42:44.562876Z",
     "shell.execute_reply": "2022-03-02T12:42:44.562058Z",
     "shell.execute_reply.started": "2022-03-02T04:40:01.728281Z"
    },
    "papermill": {
     "duration": 0.023085,
     "end_time": "2022-03-02T12:42:44.563054",
     "exception": false,
     "start_time": "2022-03-02T12:42:44.539969",
     "status": "completed"
    },
    "tags": []
   },
   "outputs": [],
   "source": [
    "# !pip install cupy"
   ]
  },
  {
   "cell_type": "code",
   "execution_count": 2,
   "id": "bff27e06",
   "metadata": {
    "execution": {
     "iopub.execute_input": "2022-03-02T12:42:44.600592Z",
     "iopub.status.busy": "2022-03-02T12:42:44.599807Z",
     "iopub.status.idle": "2022-03-02T12:42:44.602966Z",
     "shell.execute_reply": "2022-03-02T12:42:44.602321Z",
     "shell.execute_reply.started": "2022-03-02T04:40:01.738141Z"
    },
    "papermill": {
     "duration": 0.025331,
     "end_time": "2022-03-02T12:42:44.603122",
     "exception": false,
     "start_time": "2022-03-02T12:42:44.577791",
     "status": "completed"
    },
    "tags": []
   },
   "outputs": [],
   "source": [
    "# import cupy as np\n",
    "import numpy as np\n",
    "import pandas as pd\n",
    "from tqdm import tqdm"
   ]
  },
  {
   "cell_type": "code",
   "execution_count": 3,
   "id": "6af9a6de",
   "metadata": {
    "execution": {
     "iopub.execute_input": "2022-03-02T12:42:44.633739Z",
     "iopub.status.busy": "2022-03-02T12:42:44.632928Z",
     "iopub.status.idle": "2022-03-02T12:43:50.569640Z",
     "shell.execute_reply": "2022-03-02T12:43:50.570100Z",
     "shell.execute_reply.started": "2022-03-02T04:40:01.748075Z"
    },
    "papermill": {
     "duration": 65.954103,
     "end_time": "2022-03-02T12:43:50.570303",
     "exception": false,
     "start_time": "2022-03-02T12:42:44.616200",
     "status": "completed"
    },
    "tags": []
   },
   "outputs": [],
   "source": [
    "# Load data from different CSV files\n",
    "transactions_df = pd.read_csv(\"../dataset/transactions_train.csv\")\n",
    "submission_df = pd.read_csv('../dataset/sample_submission.csv')\n",
    "text_article_ids = np.load('text_articles.npy')"
   ]
  },
  {
   "cell_type": "code",
   "execution_count": 4,
   "id": "4bd397cf",
   "metadata": {
    "execution": {
     "iopub.execute_input": "2022-03-02T12:43:50.600112Z",
     "iopub.status.busy": "2022-03-02T12:43:50.599483Z",
     "iopub.status.idle": "2022-03-02T12:43:50.601633Z",
     "shell.execute_reply": "2022-03-02T12:43:50.602137Z",
     "shell.execute_reply.started": "2022-03-02T04:40:56.858437Z"
    },
    "papermill": {
     "duration": 0.020148,
     "end_time": "2022-03-02T12:43:50.602322",
     "exception": false,
     "start_time": "2022-03-02T12:43:50.582174",
     "status": "completed"
    },
    "tags": []
   },
   "outputs": [],
   "source": [
    "def get_most_bought_articles(data, num_articles=5):\n",
    "    # Create dataframe that contains the number of times each article has been bought\n",
    "    articles_counts = data[['article_id', 't_dat']].groupby('article_id').count().reset_index().rename(columns={'t_dat': 'count'})\n",
    "    articles_counts = articles_counts.sort_values(by='count', ascending=False)\n",
    "    most_bought_articles = articles_counts.loc[articles_counts['count'] >= num_articles]['article_id'].values\n",
    "    return most_bought_articles"
   ]
  },
  {
   "cell_type": "code",
   "execution_count": 5,
   "id": "b7417c53",
   "metadata": {
    "execution": {
     "iopub.execute_input": "2022-03-02T12:43:50.642396Z",
     "iopub.status.busy": "2022-03-02T12:43:50.641661Z",
     "iopub.status.idle": "2022-03-02T12:44:07.871511Z",
     "shell.execute_reply": "2022-03-02T12:44:07.872019Z",
     "shell.execute_reply.started": "2022-03-02T04:40:56.865373Z"
    },
    "papermill": {
     "duration": 17.257146,
     "end_time": "2022-03-02T12:44:07.872189",
     "exception": false,
     "start_time": "2022-03-02T12:43:50.615043",
     "status": "completed"
    },
    "tags": []
   },
   "outputs": [
    {
     "name": "stdout",
     "output_type": "stream",
     "text": [
      "Articles that have images:  105100\n",
      "Articles that have text description:  104297\n",
      "Num of articles: 12830\n",
      "Num of customers: 13720\n"
     ]
    }
   ],
   "source": [
    "# Create training dataset with positive examples.\n",
    "# The training data will contain all transactions starting from 01/07/2020.\n",
    "# Only items that have been bought at least 40 times will be kept. Also, we\n",
    "# are only going to compute the information for the customers that appear\n",
    "# in these transactions. \n",
    "\n",
    "# Removes articles that do not have corresponding images\n",
    "m = 40\n",
    "\n",
    "start_date = pd.to_datetime('2020-07-01')\n",
    "\n",
    "filtered_transactions_df = transactions_df.copy()\n",
    "filtered_transactions_df.t_dat = pd.to_datetime(filtered_transactions_df.t_dat)\n",
    "filtered_transactions_df = filtered_transactions_df.loc[filtered_transactions_df.t_dat >= start_date]\n",
    "\n",
    "train_df = filtered_transactions_df.copy()\n",
    "\n",
    "most_bought_articles = get_most_bought_articles(train_df, num_articles=m)\n",
    "\n",
    "import os\n",
    "img_root = \"../dataset/images\"\n",
    "articles_with_img = []\n",
    "for path, subdirs, files in os.walk(img_root):\n",
    "    for name in files:\n",
    "        articles_with_img.append(int(name.split(\".\")[0]))\n",
    "articles_with_img = np.array(articles_with_img)\n",
    "\n",
    "print(\"Articles that have images: \",len(articles_with_img))\n",
    "print(\"Articles that have text description: \",len(text_article_ids))\n",
    "\n",
    "for article in most_bought_articles:\n",
    "    if (article not in articles_with_img) or (article not in text_article_ids):\n",
    "        most_bought_articles = most_bought_articles[most_bought_articles != article] \n",
    "\n",
    "most_bought_articles = np.sort(most_bought_articles)\n",
    "\n",
    "train_df = train_df.drop(train_df.loc[~train_df.article_id.isin(most_bought_articles)].index)\n",
    "filtered_transactions_df = filtered_transactions_df.drop(filtered_transactions_df.loc[~filtered_transactions_df.article_id.isin(most_bought_articles)].index)\n",
    "\n",
    "recent_customers = train_df.loc[train_df.article_id.isin(most_bought_articles)].customer_id.unique()\n",
    "recent_customers = np.random.choice(recent_customers, size = 13720)\n",
    "recent_customers = np.sort(recent_customers)\n",
    "train_df = train_df[train_df.customer_id.isin(recent_customers)]\n",
    "num_articles = len(most_bought_articles)\n",
    "num_customers = len(recent_customers)\n",
    "print(\"Num of articles:\",num_articles)\n",
    "print(\"Num of customers:\",num_customers)"
   ]
  },
  {
   "cell_type": "code",
   "execution_count": 6,
   "id": "634b5ccc",
   "metadata": {},
   "outputs": [],
   "source": [
    "# Train and Validation Split\n",
    "# filtered_df = train_df.groupby('customer_id').count().sort_values(by = 't_dat')\n",
    "# filtered_df = filtered_df[filtered_df['t_dat']> 5]\n",
    "# print(\"No. of Customers:\",len(filtered_df.index))\n",
    "# train_df.set_index('customer_id', inplace= True)\n",
    "# train_df = train_df.loc[filtered_df.index.values]\n",
    "# train_df.reset_index(inplace= True)"
   ]
  },
  {
   "cell_type": "code",
   "execution_count": 7,
   "id": "e96d3e53",
   "metadata": {},
   "outputs": [
    {
     "data": {
      "text/html": [
       "<div>\n",
       "<style scoped>\n",
       "    .dataframe tbody tr th:only-of-type {\n",
       "        vertical-align: middle;\n",
       "    }\n",
       "\n",
       "    .dataframe tbody tr th {\n",
       "        vertical-align: top;\n",
       "    }\n",
       "\n",
       "    .dataframe thead th {\n",
       "        text-align: right;\n",
       "    }\n",
       "</style>\n",
       "<table border=\"1\" class=\"dataframe\">\n",
       "  <thead>\n",
       "    <tr style=\"text-align: right;\">\n",
       "      <th></th>\n",
       "      <th>t_dat</th>\n",
       "      <th>customer_id</th>\n",
       "      <th>article_id</th>\n",
       "      <th>price</th>\n",
       "      <th>sales_channel_id</th>\n",
       "    </tr>\n",
       "  </thead>\n",
       "  <tbody>\n",
       "    <tr>\n",
       "      <th>28401481</th>\n",
       "      <td>2020-07-01</td>\n",
       "      <td>009f4e304a83016f8d7e48b9669791e26cfb25932e6365...</td>\n",
       "      <td>895098001</td>\n",
       "      <td>0.015525</td>\n",
       "      <td>1</td>\n",
       "    </tr>\n",
       "    <tr>\n",
       "      <th>28401482</th>\n",
       "      <td>2020-07-01</td>\n",
       "      <td>009f4e304a83016f8d7e48b9669791e26cfb25932e6365...</td>\n",
       "      <td>160442007</td>\n",
       "      <td>0.012407</td>\n",
       "      <td>1</td>\n",
       "    </tr>\n",
       "    <tr>\n",
       "      <th>28401483</th>\n",
       "      <td>2020-07-01</td>\n",
       "      <td>009f4e304a83016f8d7e48b9669791e26cfb25932e6365...</td>\n",
       "      <td>883033002</td>\n",
       "      <td>0.031051</td>\n",
       "      <td>1</td>\n",
       "    </tr>\n",
       "    <tr>\n",
       "      <th>28401484</th>\n",
       "      <td>2020-07-01</td>\n",
       "      <td>009f4e304a83016f8d7e48b9669791e26cfb25932e6365...</td>\n",
       "      <td>887770001</td>\n",
       "      <td>0.015525</td>\n",
       "      <td>1</td>\n",
       "    </tr>\n",
       "    <tr>\n",
       "      <th>28401569</th>\n",
       "      <td>2020-07-01</td>\n",
       "      <td>010713a56d4c0126e8e218f80d31ff4a42873ef41b6040...</td>\n",
       "      <td>832361003</td>\n",
       "      <td>0.015237</td>\n",
       "      <td>1</td>\n",
       "    </tr>\n",
       "    <tr>\n",
       "      <th>...</th>\n",
       "      <td>...</td>\n",
       "      <td>...</td>\n",
       "      <td>...</td>\n",
       "      <td>...</td>\n",
       "      <td>...</td>\n",
       "    </tr>\n",
       "    <tr>\n",
       "      <th>31787799</th>\n",
       "      <td>2020-09-22</td>\n",
       "      <td>fb3cb15d47ea95b54486c1f3a5d953e35a59b4b993d428...</td>\n",
       "      <td>837249024</td>\n",
       "      <td>0.016932</td>\n",
       "      <td>2</td>\n",
       "    </tr>\n",
       "    <tr>\n",
       "      <th>31787800</th>\n",
       "      <td>2020-09-22</td>\n",
       "      <td>fb3cb15d47ea95b54486c1f3a5d953e35a59b4b993d428...</td>\n",
       "      <td>794191004</td>\n",
       "      <td>0.022017</td>\n",
       "      <td>2</td>\n",
       "    </tr>\n",
       "    <tr>\n",
       "      <th>31788212</th>\n",
       "      <td>2020-09-22</td>\n",
       "      <td>fed45562e3ee9bb772ea2aa06dd2335f93a1ef351fb9f9...</td>\n",
       "      <td>506098007</td>\n",
       "      <td>0.023712</td>\n",
       "      <td>1</td>\n",
       "    </tr>\n",
       "    <tr>\n",
       "      <th>31788289</th>\n",
       "      <td>2020-09-22</td>\n",
       "      <td>ff813df6887c2a6d7065aed247bf1db3d6f629eee23798...</td>\n",
       "      <td>907702003</td>\n",
       "      <td>0.016932</td>\n",
       "      <td>1</td>\n",
       "    </tr>\n",
       "    <tr>\n",
       "      <th>31788290</th>\n",
       "      <td>2020-09-22</td>\n",
       "      <td>ff813df6887c2a6d7065aed247bf1db3d6f629eee23798...</td>\n",
       "      <td>806388002</td>\n",
       "      <td>0.013542</td>\n",
       "      <td>1</td>\n",
       "    </tr>\n",
       "  </tbody>\n",
       "</table>\n",
       "<p>85285 rows × 5 columns</p>\n",
       "</div>"
      ],
      "text/plain": [
       "              t_dat                                        customer_id  \\\n",
       "28401481 2020-07-01  009f4e304a83016f8d7e48b9669791e26cfb25932e6365...   \n",
       "28401482 2020-07-01  009f4e304a83016f8d7e48b9669791e26cfb25932e6365...   \n",
       "28401483 2020-07-01  009f4e304a83016f8d7e48b9669791e26cfb25932e6365...   \n",
       "28401484 2020-07-01  009f4e304a83016f8d7e48b9669791e26cfb25932e6365...   \n",
       "28401569 2020-07-01  010713a56d4c0126e8e218f80d31ff4a42873ef41b6040...   \n",
       "...             ...                                                ...   \n",
       "31787799 2020-09-22  fb3cb15d47ea95b54486c1f3a5d953e35a59b4b993d428...   \n",
       "31787800 2020-09-22  fb3cb15d47ea95b54486c1f3a5d953e35a59b4b993d428...   \n",
       "31788212 2020-09-22  fed45562e3ee9bb772ea2aa06dd2335f93a1ef351fb9f9...   \n",
       "31788289 2020-09-22  ff813df6887c2a6d7065aed247bf1db3d6f629eee23798...   \n",
       "31788290 2020-09-22  ff813df6887c2a6d7065aed247bf1db3d6f629eee23798...   \n",
       "\n",
       "          article_id     price  sales_channel_id  \n",
       "28401481   895098001  0.015525                 1  \n",
       "28401482   160442007  0.012407                 1  \n",
       "28401483   883033002  0.031051                 1  \n",
       "28401484   887770001  0.015525                 1  \n",
       "28401569   832361003  0.015237                 1  \n",
       "...              ...       ...               ...  \n",
       "31787799   837249024  0.016932                 2  \n",
       "31787800   794191004  0.022017                 2  \n",
       "31788212   506098007  0.023712                 1  \n",
       "31788289   907702003  0.016932                 1  \n",
       "31788290   806388002  0.013542                 1  \n",
       "\n",
       "[85285 rows x 5 columns]"
      ]
     },
     "execution_count": 7,
     "metadata": {},
     "output_type": "execute_result"
    }
   ],
   "source": [
    "train_df"
   ]
  },
  {
   "cell_type": "code",
   "execution_count": 8,
   "id": "aa0cc2f3",
   "metadata": {},
   "outputs": [
    {
     "data": {
      "text/html": [
       "<div>\n",
       "<style scoped>\n",
       "    .dataframe tbody tr th:only-of-type {\n",
       "        vertical-align: middle;\n",
       "    }\n",
       "\n",
       "    .dataframe tbody tr th {\n",
       "        vertical-align: top;\n",
       "    }\n",
       "\n",
       "    .dataframe thead th {\n",
       "        text-align: right;\n",
       "    }\n",
       "</style>\n",
       "<table border=\"1\" class=\"dataframe\">\n",
       "  <thead>\n",
       "    <tr style=\"text-align: right;\">\n",
       "      <th></th>\n",
       "      <th>article_id</th>\n",
       "    </tr>\n",
       "    <tr>\n",
       "      <th>customer_id</th>\n",
       "      <th></th>\n",
       "    </tr>\n",
       "  </thead>\n",
       "  <tbody>\n",
       "    <tr>\n",
       "      <th>29</th>\n",
       "      <td>10832</td>\n",
       "    </tr>\n",
       "    <tr>\n",
       "      <th>29</th>\n",
       "      <td>24</td>\n",
       "    </tr>\n",
       "    <tr>\n",
       "      <th>29</th>\n",
       "      <td>9900</td>\n",
       "    </tr>\n",
       "    <tr>\n",
       "      <th>29</th>\n",
       "      <td>10231</td>\n",
       "    </tr>\n",
       "    <tr>\n",
       "      <th>46</th>\n",
       "      <td>6018</td>\n",
       "    </tr>\n",
       "    <tr>\n",
       "      <th>...</th>\n",
       "      <td>...</td>\n",
       "    </tr>\n",
       "    <tr>\n",
       "      <th>13497</th>\n",
       "      <td>6282</td>\n",
       "    </tr>\n",
       "    <tr>\n",
       "      <th>13497</th>\n",
       "      <td>4172</td>\n",
       "    </tr>\n",
       "    <tr>\n",
       "      <th>13661</th>\n",
       "      <td>420</td>\n",
       "    </tr>\n",
       "    <tr>\n",
       "      <th>13695</th>\n",
       "      <td>11650</td>\n",
       "    </tr>\n",
       "    <tr>\n",
       "      <th>13695</th>\n",
       "      <td>4562</td>\n",
       "    </tr>\n",
       "  </tbody>\n",
       "</table>\n",
       "<p>85285 rows × 1 columns</p>\n",
       "</div>"
      ],
      "text/plain": [
       "             article_id\n",
       "customer_id            \n",
       "29                10832\n",
       "29                   24\n",
       "29                 9900\n",
       "29                10231\n",
       "46                 6018\n",
       "...                 ...\n",
       "13497              6282\n",
       "13497              4172\n",
       "13661               420\n",
       "13695             11650\n",
       "13695              4562\n",
       "\n",
       "[85285 rows x 1 columns]"
      ]
     },
     "execution_count": 8,
     "metadata": {},
     "output_type": "execute_result"
    }
   ],
   "source": [
    "# Create dictionaries with mapping keys\n",
    "articles_id_to_idx = dict(zip(most_bought_articles, range(num_articles)))\n",
    "customers_id_to_idx = dict(zip(recent_customers, range(num_customers)))\n",
    "\n",
    "train_df = train_df.loc[train_df['article_id'].isin(most_bought_articles)]\n",
    "train_df = train_df[['customer_id', 'article_id']]\n",
    "\n",
    "train_df['article_id'] = train_df['article_id'].apply(lambda x: articles_id_to_idx[x])\n",
    "train_df['customer_id'] = train_df['customer_id'].apply(lambda x: customers_id_to_idx[x])\n",
    "\n",
    "train_df = train_df.reset_index()\n",
    "train_df = train_df.drop('index', axis= 1)\n",
    "train_df = train_df.set_index('customer_id')\n",
    "\n",
    "train_df"
   ]
  },
  {
   "cell_type": "code",
   "execution_count": 9,
   "id": "8c191caf",
   "metadata": {},
   "outputs": [
    {
     "name": "stdout",
     "output_type": "stream",
     "text": [
      "Text Embeddings shape:  (104297, 384)\n",
      "Image embeddings shape:  (105100, 1000)\n"
     ]
    }
   ],
   "source": [
    "img_embeddings = np.load('../rwang97/features.npy')\n",
    "text_embeddings = np.load('text_embeddings.npy')\n",
    "print(\"Text Embeddings shape: \",text_embeddings.shape)\n",
    "print(\"Image embeddings shape: \",img_embeddings.shape)"
   ]
  },
  {
   "cell_type": "code",
   "execution_count": 10,
   "id": "fab975f2",
   "metadata": {},
   "outputs": [],
   "source": [
    "img_paths = np.load(\"../rwang97/img_path.pickle\", allow_pickle=True)\n",
    "img_paths = [p.replace(\"/cs282/shared/h-and-m-personalized-fashion-recommendations/images/\", \"\") for p in img_paths]\n",
    "img_paths = [p.replace(\".jpg\", \"\") for p in img_paths]\n",
    "img_paths = [int(p.split(\"/\")[1]) for p in img_paths]"
   ]
  },
  {
   "cell_type": "code",
   "execution_count": 11,
   "id": "126b3440",
   "metadata": {},
   "outputs": [],
   "source": [
    "img_paths_to_idx =  dict(zip(img_paths, range(len(img_paths))))\n",
    "text_paths_to_idx = dict(zip(text_article_ids,range(len(text_article_ids))))"
   ]
  },
  {
   "cell_type": "code",
   "execution_count": 12,
   "id": "cab80810",
   "metadata": {},
   "outputs": [
    {
     "name": "stdout",
     "output_type": "stream",
     "text": [
      "(12830, 1000)\n"
     ]
    }
   ],
   "source": [
    "filtered_embeddings = []\n",
    "for article in most_bought_articles:\n",
    "    filtered_embeddings.append(img_embeddings[img_paths_to_idx[article]])\n",
    "filtered_embeddings = np.array(filtered_embeddings)\n",
    "print(filtered_embeddings.shape)"
   ]
  },
  {
   "cell_type": "code",
   "execution_count": 13,
   "id": "9be434f1",
   "metadata": {},
   "outputs": [
    {
     "name": "stdout",
     "output_type": "stream",
     "text": [
      "(12830, 384)\n"
     ]
    }
   ],
   "source": [
    "filtered_text_embeddings = []\n",
    "for article in most_bought_articles:\n",
    "    filtered_text_embeddings.append(text_embeddings[text_paths_to_idx[article]])\n",
    "filtered_text_embeddings = np.array(filtered_text_embeddings)\n",
    "print(filtered_text_embeddings.shape)"
   ]
  },
  {
   "cell_type": "code",
   "execution_count": 14,
   "id": "c48103ec",
   "metadata": {},
   "outputs": [
    {
     "name": "stdout",
     "output_type": "stream",
     "text": [
      "(12830, 12830)\n"
     ]
    }
   ],
   "source": [
    "from sklearn.metrics.pairwise import cosine_similarity\n",
    "item_similarity = cosine_similarity(filtered_embeddings)\n",
    "print(item_similarity.shape)"
   ]
  },
  {
   "cell_type": "code",
   "execution_count": 15,
   "id": "c3200e5a",
   "metadata": {},
   "outputs": [
    {
     "name": "stdout",
     "output_type": "stream",
     "text": [
      "(12830, 12830)\n"
     ]
    }
   ],
   "source": [
    "item_text_similarity = cosine_similarity(filtered_text_embeddings)\n",
    "print(item_text_similarity.shape)"
   ]
  },
  {
   "cell_type": "code",
   "execution_count": 16,
   "id": "f59b3821",
   "metadata": {},
   "outputs": [],
   "source": [
    "item_similarity_i = np.copy(item_similarity)\n",
    "for i in range(len(item_similarity_i)):\n",
    "    item_similarity_i[i][i] = -1"
   ]
  },
  {
   "cell_type": "code",
   "execution_count": 17,
   "id": "9bf0a36b",
   "metadata": {},
   "outputs": [],
   "source": [
    "item_text_similarity_i = np.copy(item_text_similarity)\n",
    "for i in range(len(item_text_similarity_i)):\n",
    "    item_text_similarity_i[i][i] = -1"
   ]
  },
  {
   "cell_type": "code",
   "execution_count": 18,
   "id": "d4da690b",
   "metadata": {},
   "outputs": [],
   "source": [
    "# Now sort the item similarity matrix, get top 12 similar items for each item and then for each customer in train df generate recommendations"
   ]
  },
  {
   "cell_type": "code",
   "execution_count": 19,
   "id": "5be40bd7",
   "metadata": {},
   "outputs": [
    {
     "name": "stdout",
     "output_type": "stream",
     "text": [
      "[[ 3533  2381  3537 ...   975  2875     0]\n",
      " [12480  7671 12065 ...  7477  6545     1]\n",
      " [  194   511   277 ...  4593 12004     2]\n",
      " ...\n",
      " [ 6720 10416  9176 ...  7212  4703 12827]\n",
      " [ 8975 11446  9906 ...  3272  8660 12828]\n",
      " [  730    41  4480 ...  8662 10457 12829]]\n"
     ]
    }
   ],
   "source": [
    "similar_items = np.argsort(-item_similarity_i)\n",
    "print(similar_items)\n",
    "# Retain only top 12 similar items for each item\n",
    "top_12 = similar_items[:,:12]"
   ]
  },
  {
   "cell_type": "code",
   "execution_count": 20,
   "id": "456ada0d",
   "metadata": {},
   "outputs": [
    {
     "name": "stdout",
     "output_type": "stream",
     "text": [
      "[[  213   214 12725 ...  7558  7557     0]\n",
      " [   19    13    12 ...  1554  1553     1]\n",
      " [ 1564   552   551 ...  8979  8978     2]\n",
      " ...\n",
      " [12828  5110  5108 ... 11041 11042 12827]\n",
      " [12827  5110  5108 ... 11042 11041 12828]\n",
      " [  173    53    50 ...  1554  1553 12829]]\n"
     ]
    }
   ],
   "source": [
    "similar_text_items = np.argsort(-item_text_similarity_i)\n",
    "print(similar_text_items)\n",
    "# Retain only top 12 similar items for each item\n",
    "top_12_text = similar_text_items[:,:12]"
   ]
  },
  {
   "cell_type": "code",
   "execution_count": 21,
   "id": "c602820d",
   "metadata": {},
   "outputs": [
    {
     "data": {
      "text/html": [
       "<div>\n",
       "<style scoped>\n",
       "    .dataframe tbody tr th:only-of-type {\n",
       "        vertical-align: middle;\n",
       "    }\n",
       "\n",
       "    .dataframe tbody tr th {\n",
       "        vertical-align: top;\n",
       "    }\n",
       "\n",
       "    .dataframe thead th {\n",
       "        text-align: right;\n",
       "    }\n",
       "</style>\n",
       "<table border=\"1\" class=\"dataframe\">\n",
       "  <thead>\n",
       "    <tr style=\"text-align: right;\">\n",
       "      <th></th>\n",
       "      <th>bought_articles</th>\n",
       "      <th>bought_articles_count</th>\n",
       "    </tr>\n",
       "    <tr>\n",
       "      <th>customer_id</th>\n",
       "      <th></th>\n",
       "      <th></th>\n",
       "    </tr>\n",
       "  </thead>\n",
       "  <tbody>\n",
       "    <tr>\n",
       "      <th>0</th>\n",
       "      <td>[9110]</td>\n",
       "      <td>1</td>\n",
       "    </tr>\n",
       "    <tr>\n",
       "      <th>1</th>\n",
       "      <td>[8506, 5820]</td>\n",
       "      <td>2</td>\n",
       "    </tr>\n",
       "    <tr>\n",
       "      <th>2</th>\n",
       "      <td>[10630, 14, 5242, 5243, 701, 1055]</td>\n",
       "      <td>6</td>\n",
       "    </tr>\n",
       "    <tr>\n",
       "      <th>3</th>\n",
       "      <td>[2500, 2501, 109, 4398, 661, 2264]</td>\n",
       "      <td>6</td>\n",
       "    </tr>\n",
       "    <tr>\n",
       "      <th>4</th>\n",
       "      <td>[8836, 8837]</td>\n",
       "      <td>2</td>\n",
       "    </tr>\n",
       "    <tr>\n",
       "      <th>...</th>\n",
       "      <td>...</td>\n",
       "      <td>...</td>\n",
       "    </tr>\n",
       "    <tr>\n",
       "      <th>13715</th>\n",
       "      <td>[772, 12093, 2431]</td>\n",
       "      <td>3</td>\n",
       "    </tr>\n",
       "    <tr>\n",
       "      <th>13716</th>\n",
       "      <td>[2004, 1113, 6203, 2813, 1246]</td>\n",
       "      <td>5</td>\n",
       "    </tr>\n",
       "    <tr>\n",
       "      <th>13717</th>\n",
       "      <td>[313, 8236, 7855, 4111, 9778, 3288, 5241, 2232]</td>\n",
       "      <td>8</td>\n",
       "    </tr>\n",
       "    <tr>\n",
       "      <th>13718</th>\n",
       "      <td>[5410, 868, 7780, 431, 2903, 12537]</td>\n",
       "      <td>6</td>\n",
       "    </tr>\n",
       "    <tr>\n",
       "      <th>13719</th>\n",
       "      <td>[3313, 2989]</td>\n",
       "      <td>2</td>\n",
       "    </tr>\n",
       "  </tbody>\n",
       "</table>\n",
       "<p>13536 rows × 2 columns</p>\n",
       "</div>"
      ],
      "text/plain": [
       "                                             bought_articles  \\\n",
       "customer_id                                                    \n",
       "0                                                     [9110]   \n",
       "1                                               [8506, 5820]   \n",
       "2                         [10630, 14, 5242, 5243, 701, 1055]   \n",
       "3                         [2500, 2501, 109, 4398, 661, 2264]   \n",
       "4                                               [8836, 8837]   \n",
       "...                                                      ...   \n",
       "13715                                     [772, 12093, 2431]   \n",
       "13716                         [2004, 1113, 6203, 2813, 1246]   \n",
       "13717        [313, 8236, 7855, 4111, 9778, 3288, 5241, 2232]   \n",
       "13718                    [5410, 868, 7780, 431, 2903, 12537]   \n",
       "13719                                           [3313, 2989]   \n",
       "\n",
       "             bought_articles_count  \n",
       "customer_id                         \n",
       "0                                1  \n",
       "1                                2  \n",
       "2                                6  \n",
       "3                                6  \n",
       "4                                2  \n",
       "...                            ...  \n",
       "13715                            3  \n",
       "13716                            5  \n",
       "13717                            8  \n",
       "13718                            6  \n",
       "13719                            2  \n",
       "\n",
       "[13536 rows x 2 columns]"
      ]
     },
     "metadata": {},
     "output_type": "display_data"
    }
   ],
   "source": [
    "joined_art_df = train_df.reset_index().groupby(['customer_id']).agg(set).applymap(list).reset_index().rename(columns = {'article_id': 'bought_articles'})\n",
    "joined_art_df.set_index('customer_id',inplace= True)\n",
    "joined_art_df['bought_articles_count'] = joined_art_df['bought_articles'].apply(len)\n",
    "display(joined_art_df)"
   ]
  },
  {
   "cell_type": "code",
   "execution_count": 22,
   "id": "245b126d",
   "metadata": {},
   "outputs": [
    {
     "data": {
      "text/html": [
       "<div>\n",
       "<style scoped>\n",
       "    .dataframe tbody tr th:only-of-type {\n",
       "        vertical-align: middle;\n",
       "    }\n",
       "\n",
       "    .dataframe tbody tr th {\n",
       "        vertical-align: top;\n",
       "    }\n",
       "\n",
       "    .dataframe thead th {\n",
       "        text-align: right;\n",
       "    }\n",
       "</style>\n",
       "<table border=\"1\" class=\"dataframe\">\n",
       "  <thead>\n",
       "    <tr style=\"text-align: right;\">\n",
       "      <th></th>\n",
       "      <th>bought_articles</th>\n",
       "      <th>bought_articles_count</th>\n",
       "    </tr>\n",
       "    <tr>\n",
       "      <th>customer_id</th>\n",
       "      <th></th>\n",
       "      <th></th>\n",
       "    </tr>\n",
       "  </thead>\n",
       "  <tbody>\n",
       "    <tr>\n",
       "      <th>3489</th>\n",
       "      <td>[7681, 5121, 5127, 3602, 3603, 535, 5145, 5658...</td>\n",
       "      <td>141</td>\n",
       "    </tr>\n",
       "    <tr>\n",
       "      <th>2145</th>\n",
       "      <td>[6660, 9229, 5647, 10767, 11794, 1051, 8736, 6...</td>\n",
       "      <td>95</td>\n",
       "    </tr>\n",
       "    <tr>\n",
       "      <th>10323</th>\n",
       "      <td>[10245, 7176, 9228, 12815, 11280, 11281, 11282...</td>\n",
       "      <td>91</td>\n",
       "    </tr>\n",
       "    <tr>\n",
       "      <th>1053</th>\n",
       "      <td>[10264, 11301, 7717, 11303, 7720, 4664, 10818,...</td>\n",
       "      <td>77</td>\n",
       "    </tr>\n",
       "    <tr>\n",
       "      <th>11403</th>\n",
       "      <td>[7554, 1019, 11550, 12299, 10381, 4878, 10897,...</td>\n",
       "      <td>76</td>\n",
       "    </tr>\n",
       "    <tr>\n",
       "      <th>...</th>\n",
       "      <td>...</td>\n",
       "      <td>...</td>\n",
       "    </tr>\n",
       "    <tr>\n",
       "      <th>5664</th>\n",
       "      <td>[11243]</td>\n",
       "      <td>1</td>\n",
       "    </tr>\n",
       "    <tr>\n",
       "      <th>5663</th>\n",
       "      <td>[6498]</td>\n",
       "      <td>1</td>\n",
       "    </tr>\n",
       "    <tr>\n",
       "      <th>5655</th>\n",
       "      <td>[11526]</td>\n",
       "      <td>1</td>\n",
       "    </tr>\n",
       "    <tr>\n",
       "      <th>5649</th>\n",
       "      <td>[4238]</td>\n",
       "      <td>1</td>\n",
       "    </tr>\n",
       "    <tr>\n",
       "      <th>0</th>\n",
       "      <td>[9110]</td>\n",
       "      <td>1</td>\n",
       "    </tr>\n",
       "  </tbody>\n",
       "</table>\n",
       "<p>13536 rows × 2 columns</p>\n",
       "</div>"
      ],
      "text/plain": [
       "                                               bought_articles  \\\n",
       "customer_id                                                      \n",
       "3489         [7681, 5121, 5127, 3602, 3603, 535, 5145, 5658...   \n",
       "2145         [6660, 9229, 5647, 10767, 11794, 1051, 8736, 6...   \n",
       "10323        [10245, 7176, 9228, 12815, 11280, 11281, 11282...   \n",
       "1053         [10264, 11301, 7717, 11303, 7720, 4664, 10818,...   \n",
       "11403        [7554, 1019, 11550, 12299, 10381, 4878, 10897,...   \n",
       "...                                                        ...   \n",
       "5664                                                   [11243]   \n",
       "5663                                                    [6498]   \n",
       "5655                                                   [11526]   \n",
       "5649                                                    [4238]   \n",
       "0                                                       [9110]   \n",
       "\n",
       "             bought_articles_count  \n",
       "customer_id                         \n",
       "3489                           141  \n",
       "2145                            95  \n",
       "10323                           91  \n",
       "1053                            77  \n",
       "11403                           76  \n",
       "...                            ...  \n",
       "5664                             1  \n",
       "5663                             1  \n",
       "5655                             1  \n",
       "5649                             1  \n",
       "0                                1  \n",
       "\n",
       "[13536 rows x 2 columns]"
      ]
     },
     "execution_count": 22,
     "metadata": {},
     "output_type": "execute_result"
    }
   ],
   "source": [
    "joined_art_df.sort_values(by = 'bought_articles_count', ascending= False)"
   ]
  },
  {
   "cell_type": "code",
   "execution_count": 65,
   "id": "1933c2f2",
   "metadata": {},
   "outputs": [
    {
     "name": "stdout",
     "output_type": "stream",
     "text": [
      "2 1\n"
     ]
    }
   ],
   "source": [
    "d = {str(1):100,'2':200}\n",
    "x = pd.Series(d)\n",
    "print(' '.join(list(x.sort_values(ascending= False).index[:2].values)))"
   ]
  },
  {
   "cell_type": "code",
   "execution_count": 67,
   "id": "b7304f76",
   "metadata": {},
   "outputs": [],
   "source": [
    "def find_top_12_items(x,top_12,item_similarity_i):\n",
    "    item_dict = {}\n",
    "    for idx in x:\n",
    "        elements = top_12[idx]\n",
    "        for y in elements:\n",
    "            item_dict[str(img_paths[y])] = max(item_dict.get(str(img_paths[y]),-1),item_similarity_i[idx,y])\n",
    "    return ' '.join(list(pd.Series(item_dict).sort_values(ascending= False).index[:12].values))"
   ]
  },
  {
   "cell_type": "code",
   "execution_count": 66,
   "id": "87379fe6",
   "metadata": {},
   "outputs": [],
   "source": [
    "def find_top_12_text_items(x,top_12_text,item_text_similarity_i):\n",
    "    item_dict = {}\n",
    "    for idx in x:\n",
    "        elements = top_12_text[idx]\n",
    "        for y in elements:\n",
    "            item_dict[str(text_article_ids[y])] = max(item_dict.get(str(text_article_ids[y]),-1),item_text_similarity_i[idx,y])\n",
    "    return ' '.join(list(pd.Series(item_dict).sort_values(ascending= False).index[:12].values))"
   ]
  },
  {
   "cell_type": "code",
   "execution_count": 68,
   "id": "6ab14743",
   "metadata": {},
   "outputs": [],
   "source": [
    "joined_art_df['prediction'] = joined_art_df['bought_articles'].apply(lambda x: find_top_12_items(x,top_12,item_similarity_i))"
   ]
  },
  {
   "cell_type": "code",
   "execution_count": 69,
   "id": "26c7936a",
   "metadata": {},
   "outputs": [],
   "source": [
    "joined_art_df['text_prediction'] = joined_art_df['bought_articles'].apply(lambda x: find_top_12_items(x,top_12_text,item_text_similarity_i))"
   ]
  },
  {
   "cell_type": "code",
   "execution_count": 40,
   "id": "f9b304a6",
   "metadata": {},
   "outputs": [],
   "source": [
    "joined_art_df.reset_index(inplace = True)"
   ]
  },
  {
   "cell_type": "code",
   "execution_count": 57,
   "id": "cc861a12",
   "metadata": {},
   "outputs": [],
   "source": [
    "joined_art_df['customer_id'] = joined_art_df.customer_id.apply(lambda x: recent_customers[x])"
   ]
  },
  {
   "cell_type": "code",
   "execution_count": 70,
   "id": "23862053",
   "metadata": {},
   "outputs": [
    {
     "data": {
      "text/html": [
       "<div>\n",
       "<style scoped>\n",
       "    .dataframe tbody tr th:only-of-type {\n",
       "        vertical-align: middle;\n",
       "    }\n",
       "\n",
       "    .dataframe tbody tr th {\n",
       "        vertical-align: top;\n",
       "    }\n",
       "\n",
       "    .dataframe thead th {\n",
       "        text-align: right;\n",
       "    }\n",
       "</style>\n",
       "<table border=\"1\" class=\"dataframe\">\n",
       "  <thead>\n",
       "    <tr style=\"text-align: right;\">\n",
       "      <th></th>\n",
       "      <th>customer_id</th>\n",
       "      <th>bought_articles</th>\n",
       "      <th>bought_articles_count</th>\n",
       "      <th>prediction</th>\n",
       "      <th>text_prediction</th>\n",
       "    </tr>\n",
       "  </thead>\n",
       "  <tbody>\n",
       "    <tr>\n",
       "      <th>0</th>\n",
       "      <td>0025d25c40540d5540d1c42252dcd2c7db609d55ce731a...</td>\n",
       "      <td>[9110]</td>\n",
       "      <td>1</td>\n",
       "      <td>741313002 749974001 562165002 770336001 745475...</td>\n",
       "      <td>741293001 744763001 747196002 566556003 562165...</td>\n",
       "    </tr>\n",
       "    <tr>\n",
       "      <th>1</th>\n",
       "      <td>002ec67719d49448f54e88e41c15b9132a84a3fccd5972...</td>\n",
       "      <td>[8506, 5820]</td>\n",
       "      <td>2</td>\n",
       "      <td>742169003 746268001 745986002 522398057 814817...</td>\n",
       "      <td>746144009 742169003 677341001 678688003 677708...</td>\n",
       "    </tr>\n",
       "    <tr>\n",
       "      <th>2</th>\n",
       "      <td>003043175f4a58a208652e1d57511d2dbfeb3f3e2a43a3...</td>\n",
       "      <td>[10630, 14, 5242, 5243, 701, 1055]</td>\n",
       "      <td>6</td>\n",
       "      <td>813330001 567818001 810270002 523479017 817274...</td>\n",
       "      <td>521779002 524825012 522803009 527517010 527487...</td>\n",
       "    </tr>\n",
       "    <tr>\n",
       "      <th>3</th>\n",
       "      <td>0030bed6ae85e5e4f89285f21345b5f5dd0df531ec5a76...</td>\n",
       "      <td>[2500, 2501, 109, 4398, 661, 2264]</td>\n",
       "      <td>6</td>\n",
       "      <td>811835003 817058001 529588006 816111005 819851...</td>\n",
       "      <td>675255001 679128001 812375026 817086001 814224...</td>\n",
       "    </tr>\n",
       "    <tr>\n",
       "      <th>4</th>\n",
       "      <td>0033c253ee4c93f7b00e8fbaf19c645854d3362429e54f...</td>\n",
       "      <td>[8836, 8837]</td>\n",
       "      <td>2</td>\n",
       "      <td>568458003 817067002 569984035 679494003 745698...</td>\n",
       "      <td>741417007 743909015 748928001 741806001 770253...</td>\n",
       "    </tr>\n",
       "    <tr>\n",
       "      <th>...</th>\n",
       "      <td>...</td>\n",
       "      <td>...</td>\n",
       "      <td>...</td>\n",
       "      <td>...</td>\n",
       "      <td>...</td>\n",
       "    </tr>\n",
       "    <tr>\n",
       "      <th>13531</th>\n",
       "      <td>ffe49c76a9b1ebc6fae5752ce33ba6d74bcec0766f8677...</td>\n",
       "      <td>[772, 12093, 2431]</td>\n",
       "      <td>3</td>\n",
       "      <td>566942007 811705003 813015001 678696019 675214...</td>\n",
       "      <td>564497001 565379002 524149001 523776008 810008...</td>\n",
       "    </tr>\n",
       "    <tr>\n",
       "      <th>13532</th>\n",
       "      <td>fff5506ea8a342e778e4f2fbc2c9575e20b71cf24b75e6...</td>\n",
       "      <td>[2004, 1113, 6203, 2813, 1246]</td>\n",
       "      <td>5</td>\n",
       "      <td>813613001 566592008 562677017 811720003 815446...</td>\n",
       "      <td>812746001 816832006 814512003 819947001 819866...</td>\n",
       "    </tr>\n",
       "    <tr>\n",
       "      <th>13533</th>\n",
       "      <td>fff673307d4cdbf688e4a0bcfe7f671036033dbe7eba01...</td>\n",
       "      <td>[313, 8236, 7855, 4111, 9778, 3288, 5241, 2232]</td>\n",
       "      <td>8</td>\n",
       "      <td>569241001 671022001 741542001 814620006 678741...</td>\n",
       "      <td>746775001 741220013 742947002 745783001 744112...</td>\n",
       "    </tr>\n",
       "    <tr>\n",
       "      <th>13534</th>\n",
       "      <td>fffd0248a95c2e49fee876ff93598e2e20839e51b9b767...</td>\n",
       "      <td>[5410, 868, 7780, 431, 2903, 12537]</td>\n",
       "      <td>6</td>\n",
       "      <td>747764002 529008009 813010001 815669002 675657...</td>\n",
       "      <td>522092001 524458010 529174001 524979017 524825...</td>\n",
       "    </tr>\n",
       "    <tr>\n",
       "      <th>13535</th>\n",
       "      <td>fffd870c6324ad3bda24e4d6aeae221c199479086bfdfd...</td>\n",
       "      <td>[3313, 2989]</td>\n",
       "      <td>2</td>\n",
       "      <td>670944002 569986014 811756004 562734011 671949...</td>\n",
       "      <td>815833001 810557001 814762002 810398001 812464...</td>\n",
       "    </tr>\n",
       "  </tbody>\n",
       "</table>\n",
       "<p>13536 rows × 5 columns</p>\n",
       "</div>"
      ],
      "text/plain": [
       "                                             customer_id  \\\n",
       "0      0025d25c40540d5540d1c42252dcd2c7db609d55ce731a...   \n",
       "1      002ec67719d49448f54e88e41c15b9132a84a3fccd5972...   \n",
       "2      003043175f4a58a208652e1d57511d2dbfeb3f3e2a43a3...   \n",
       "3      0030bed6ae85e5e4f89285f21345b5f5dd0df531ec5a76...   \n",
       "4      0033c253ee4c93f7b00e8fbaf19c645854d3362429e54f...   \n",
       "...                                                  ...   \n",
       "13531  ffe49c76a9b1ebc6fae5752ce33ba6d74bcec0766f8677...   \n",
       "13532  fff5506ea8a342e778e4f2fbc2c9575e20b71cf24b75e6...   \n",
       "13533  fff673307d4cdbf688e4a0bcfe7f671036033dbe7eba01...   \n",
       "13534  fffd0248a95c2e49fee876ff93598e2e20839e51b9b767...   \n",
       "13535  fffd870c6324ad3bda24e4d6aeae221c199479086bfdfd...   \n",
       "\n",
       "                                       bought_articles  bought_articles_count  \\\n",
       "0                                               [9110]                      1   \n",
       "1                                         [8506, 5820]                      2   \n",
       "2                   [10630, 14, 5242, 5243, 701, 1055]                      6   \n",
       "3                   [2500, 2501, 109, 4398, 661, 2264]                      6   \n",
       "4                                         [8836, 8837]                      2   \n",
       "...                                                ...                    ...   \n",
       "13531                               [772, 12093, 2431]                      3   \n",
       "13532                   [2004, 1113, 6203, 2813, 1246]                      5   \n",
       "13533  [313, 8236, 7855, 4111, 9778, 3288, 5241, 2232]                      8   \n",
       "13534              [5410, 868, 7780, 431, 2903, 12537]                      6   \n",
       "13535                                     [3313, 2989]                      2   \n",
       "\n",
       "                                              prediction  \\\n",
       "0      741313002 749974001 562165002 770336001 745475...   \n",
       "1      742169003 746268001 745986002 522398057 814817...   \n",
       "2      813330001 567818001 810270002 523479017 817274...   \n",
       "3      811835003 817058001 529588006 816111005 819851...   \n",
       "4      568458003 817067002 569984035 679494003 745698...   \n",
       "...                                                  ...   \n",
       "13531  566942007 811705003 813015001 678696019 675214...   \n",
       "13532  813613001 566592008 562677017 811720003 815446...   \n",
       "13533  569241001 671022001 741542001 814620006 678741...   \n",
       "13534  747764002 529008009 813010001 815669002 675657...   \n",
       "13535  670944002 569986014 811756004 562734011 671949...   \n",
       "\n",
       "                                         text_prediction  \n",
       "0      741293001 744763001 747196002 566556003 562165...  \n",
       "1      746144009 742169003 677341001 678688003 677708...  \n",
       "2      521779002 524825012 522803009 527517010 527487...  \n",
       "3      675255001 679128001 812375026 817086001 814224...  \n",
       "4      741417007 743909015 748928001 741806001 770253...  \n",
       "...                                                  ...  \n",
       "13531  564497001 565379002 524149001 523776008 810008...  \n",
       "13532  812746001 816832006 814512003 819947001 819866...  \n",
       "13533  746775001 741220013 742947002 745783001 744112...  \n",
       "13534  522092001 524458010 529174001 524979017 524825...  \n",
       "13535  815833001 810557001 814762002 810398001 812464...  \n",
       "\n",
       "[13536 rows x 5 columns]"
      ]
     },
     "execution_count": 70,
     "metadata": {},
     "output_type": "execute_result"
    }
   ],
   "source": [
    "joined_art_df"
   ]
  },
  {
   "cell_type": "code",
   "execution_count": 107,
   "id": "1b815526",
   "metadata": {},
   "outputs": [],
   "source": [
    "img_pred_df = joined_art_df[['customer_id','prediction']]\n",
    "txt_pred_df = joined_art_df[['customer_id','text_prediction']].rename(columns = {'text_prediction':'prediction'})"
   ]
  },
  {
   "cell_type": "code",
   "execution_count": 74,
   "id": "3ef25316",
   "metadata": {
    "execution": {
     "iopub.execute_input": "2022-03-02T14:43:04.862149Z",
     "iopub.status.busy": "2022-03-02T14:43:04.861491Z",
     "iopub.status.idle": "2022-03-02T14:43:17.664620Z",
     "shell.execute_reply": "2022-03-02T14:43:17.663776Z",
     "shell.execute_reply.started": "2022-03-02T04:47:56.69685Z"
    },
    "papermill": {
     "duration": 37.94884,
     "end_time": "2022-03-02T14:43:17.664800",
     "exception": false,
     "start_time": "2022-03-02T14:42:39.715960",
     "status": "completed"
    },
    "tags": []
   },
   "outputs": [
    {
     "data": {
      "text/html": [
       "<div>\n",
       "<style scoped>\n",
       "    .dataframe tbody tr th:only-of-type {\n",
       "        vertical-align: middle;\n",
       "    }\n",
       "\n",
       "    .dataframe tbody tr th {\n",
       "        vertical-align: top;\n",
       "    }\n",
       "\n",
       "    .dataframe thead th {\n",
       "        text-align: right;\n",
       "    }\n",
       "</style>\n",
       "<table border=\"1\" class=\"dataframe\">\n",
       "  <thead>\n",
       "    <tr style=\"text-align: right;\">\n",
       "      <th></th>\n",
       "      <th>customer_id</th>\n",
       "      <th>prediction</th>\n",
       "    </tr>\n",
       "  </thead>\n",
       "  <tbody>\n",
       "    <tr>\n",
       "      <th>0</th>\n",
       "      <td>00000dbacae5abe5e23885899a1fa44253a17956c6d1c3...</td>\n",
       "      <td>0568601043 0568601006 0924243001 0568597006 04...</td>\n",
       "    </tr>\n",
       "    <tr>\n",
       "      <th>1</th>\n",
       "      <td>0000423b00ade91418cceaf3b26c6af3dd342b51fd051e...</td>\n",
       "      <td>0826211002 0800436010 0924243001 0739590027 09...</td>\n",
       "    </tr>\n",
       "    <tr>\n",
       "      <th>2</th>\n",
       "      <td>000058a12d5b43e67d225668fa1f8d618c13dc232df0ca...</td>\n",
       "      <td>0794321007 0852643001 0852643003 0858883002 09...</td>\n",
       "    </tr>\n",
       "    <tr>\n",
       "      <th>3</th>\n",
       "      <td>00005ca1c9ed5f5146b52ac8639a40ca9d57aeff4d1bd2...</td>\n",
       "      <td>0448509014 0573085028 0924243001 0751471001 07...</td>\n",
       "    </tr>\n",
       "    <tr>\n",
       "      <th>4</th>\n",
       "      <td>00006413d8573cd20ed7128e53b7b13819fe5cfc2d801f...</td>\n",
       "      <td>0730683050 0791587015 0924243001 0896152002 08...</td>\n",
       "    </tr>\n",
       "  </tbody>\n",
       "</table>\n",
       "</div>"
      ],
      "text/plain": [
       "                                         customer_id  \\\n",
       "0  00000dbacae5abe5e23885899a1fa44253a17956c6d1c3...   \n",
       "1  0000423b00ade91418cceaf3b26c6af3dd342b51fd051e...   \n",
       "2  000058a12d5b43e67d225668fa1f8d618c13dc232df0ca...   \n",
       "3  00005ca1c9ed5f5146b52ac8639a40ca9d57aeff4d1bd2...   \n",
       "4  00006413d8573cd20ed7128e53b7b13819fe5cfc2d801f...   \n",
       "\n",
       "                                          prediction  \n",
       "0  0568601043 0568601006 0924243001 0568597006 04...  \n",
       "1  0826211002 0800436010 0924243001 0739590027 09...  \n",
       "2  0794321007 0852643001 0852643003 0858883002 09...  \n",
       "3  0448509014 0573085028 0924243001 0751471001 07...  \n",
       "4  0730683050 0791587015 0924243001 0896152002 08...  "
      ]
     },
     "execution_count": 74,
     "metadata": {},
     "output_type": "execute_result"
    }
   ],
   "source": [
    "default_df = pd.read_csv('../rwang97/submission.csv')"
   ]
  },
  {
   "cell_type": "code",
   "execution_count": 90,
   "id": "6d52b5d9",
   "metadata": {},
   "outputs": [],
   "source": [
    "rem_default_df = default_df[~default_df['customer_id'].isin(joined_art_df['customer_id'])]"
   ]
  },
  {
   "cell_type": "code",
   "execution_count": 108,
   "id": "eb277c5e",
   "metadata": {},
   "outputs": [],
   "source": [
    "img_pred_df = pd.concat([img_pred_df,rem_default_df]).sort_values(by = 'customer_id')\n",
    "txt_pred_df = pd.concat([txt_pred_df,rem_default_df]).sort_values(by = 'customer_id')"
   ]
  },
  {
   "cell_type": "code",
   "execution_count": 109,
   "id": "2107dcec",
   "metadata": {},
   "outputs": [
    {
     "data": {
      "text/html": [
       "<div>\n",
       "<style scoped>\n",
       "    .dataframe tbody tr th:only-of-type {\n",
       "        vertical-align: middle;\n",
       "    }\n",
       "\n",
       "    .dataframe tbody tr th {\n",
       "        vertical-align: top;\n",
       "    }\n",
       "\n",
       "    .dataframe thead th {\n",
       "        text-align: right;\n",
       "    }\n",
       "</style>\n",
       "<table border=\"1\" class=\"dataframe\">\n",
       "  <thead>\n",
       "    <tr style=\"text-align: right;\">\n",
       "      <th></th>\n",
       "      <th>customer_id</th>\n",
       "      <th>prediction</th>\n",
       "    </tr>\n",
       "  </thead>\n",
       "  <tbody>\n",
       "    <tr>\n",
       "      <th>0</th>\n",
       "      <td>00000dbacae5abe5e23885899a1fa44253a17956c6d1c3...</td>\n",
       "      <td>0568601043 0568601006 0924243001 0568597006 04...</td>\n",
       "    </tr>\n",
       "    <tr>\n",
       "      <th>1</th>\n",
       "      <td>0000423b00ade91418cceaf3b26c6af3dd342b51fd051e...</td>\n",
       "      <td>0826211002 0800436010 0924243001 0739590027 09...</td>\n",
       "    </tr>\n",
       "    <tr>\n",
       "      <th>2</th>\n",
       "      <td>000058a12d5b43e67d225668fa1f8d618c13dc232df0ca...</td>\n",
       "      <td>0794321007 0852643001 0852643003 0858883002 09...</td>\n",
       "    </tr>\n",
       "    <tr>\n",
       "      <th>3</th>\n",
       "      <td>00005ca1c9ed5f5146b52ac8639a40ca9d57aeff4d1bd2...</td>\n",
       "      <td>0448509014 0573085028 0924243001 0751471001 07...</td>\n",
       "    </tr>\n",
       "    <tr>\n",
       "      <th>4</th>\n",
       "      <td>00006413d8573cd20ed7128e53b7b13819fe5cfc2d801f...</td>\n",
       "      <td>0730683050 0791587015 0924243001 0896152002 08...</td>\n",
       "    </tr>\n",
       "    <tr>\n",
       "      <th>...</th>\n",
       "      <td>...</td>\n",
       "      <td>...</td>\n",
       "    </tr>\n",
       "    <tr>\n",
       "      <th>1371975</th>\n",
       "      <td>ffffbbf78b6eaac697a8a5dfbfd2bfa8113ee5b403e474...</td>\n",
       "      <td>0804992033 0713997002 0720125039 0740922009 05...</td>\n",
       "    </tr>\n",
       "    <tr>\n",
       "      <th>1371976</th>\n",
       "      <td>ffffcd5046a6143d29a04fb8c424ce494a76e5cdf4fab5...</td>\n",
       "      <td>0818754002 0762846031 0924243001 0759871030 06...</td>\n",
       "    </tr>\n",
       "    <tr>\n",
       "      <th>1371977</th>\n",
       "      <td>ffffcf35913a0bee60e8741cb2b4e78b8a98ee5ff2e6a1...</td>\n",
       "      <td>0884081001 0689365050 0762846027 0794819001 06...</td>\n",
       "    </tr>\n",
       "    <tr>\n",
       "      <th>1371978</th>\n",
       "      <td>ffffd7744cebcf3aca44ae7049d2a94b87074c3d4ffe38...</td>\n",
       "      <td>0882810001 0714790020 0924243001 0448509014 04...</td>\n",
       "    </tr>\n",
       "    <tr>\n",
       "      <th>1371979</th>\n",
       "      <td>ffffd9ac14e89946416d80e791d064701994755c3ab686...</td>\n",
       "      <td>0806050001 0706016002 0924243001 0448509014 07...</td>\n",
       "    </tr>\n",
       "  </tbody>\n",
       "</table>\n",
       "<p>1371980 rows × 2 columns</p>\n",
       "</div>"
      ],
      "text/plain": [
       "                                               customer_id  \\\n",
       "0        00000dbacae5abe5e23885899a1fa44253a17956c6d1c3...   \n",
       "1        0000423b00ade91418cceaf3b26c6af3dd342b51fd051e...   \n",
       "2        000058a12d5b43e67d225668fa1f8d618c13dc232df0ca...   \n",
       "3        00005ca1c9ed5f5146b52ac8639a40ca9d57aeff4d1bd2...   \n",
       "4        00006413d8573cd20ed7128e53b7b13819fe5cfc2d801f...   \n",
       "...                                                    ...   \n",
       "1371975  ffffbbf78b6eaac697a8a5dfbfd2bfa8113ee5b403e474...   \n",
       "1371976  ffffcd5046a6143d29a04fb8c424ce494a76e5cdf4fab5...   \n",
       "1371977  ffffcf35913a0bee60e8741cb2b4e78b8a98ee5ff2e6a1...   \n",
       "1371978  ffffd7744cebcf3aca44ae7049d2a94b87074c3d4ffe38...   \n",
       "1371979  ffffd9ac14e89946416d80e791d064701994755c3ab686...   \n",
       "\n",
       "                                                prediction  \n",
       "0        0568601043 0568601006 0924243001 0568597006 04...  \n",
       "1        0826211002 0800436010 0924243001 0739590027 09...  \n",
       "2        0794321007 0852643001 0852643003 0858883002 09...  \n",
       "3        0448509014 0573085028 0924243001 0751471001 07...  \n",
       "4        0730683050 0791587015 0924243001 0896152002 08...  \n",
       "...                                                    ...  \n",
       "1371975  0804992033 0713997002 0720125039 0740922009 05...  \n",
       "1371976  0818754002 0762846031 0924243001 0759871030 06...  \n",
       "1371977  0884081001 0689365050 0762846027 0794819001 06...  \n",
       "1371978  0882810001 0714790020 0924243001 0448509014 04...  \n",
       "1371979  0806050001 0706016002 0924243001 0448509014 07...  \n",
       "\n",
       "[1371980 rows x 2 columns]"
      ]
     },
     "execution_count": 109,
     "metadata": {},
     "output_type": "execute_result"
    }
   ],
   "source": [
    "txt_pred_df"
   ]
  },
  {
   "cell_type": "code",
   "execution_count": 110,
   "id": "026085d7",
   "metadata": {},
   "outputs": [],
   "source": [
    "img_pred_df.to_csv('img_submission.csv',index= False)\n",
    "txt_pred_df.to_csv('txt_submission.csv',index= False)"
   ]
  },
  {
   "cell_type": "code",
   "execution_count": 119,
   "id": "4e2b4413",
   "metadata": {},
   "outputs": [],
   "source": [
    "kmeans_12_df = pd.read_csv('kmeans_24_submission.csv')\n",
    "kmeans_12_df.sort_values(by = 'customer_id',inplace= True)\n",
    "kmeans_12_df.to_csv('kmeans_24_submission.csv',index=False)"
   ]
  },
  {
   "cell_type": "code",
   "execution_count": 1,
   "id": "0c51797f",
   "metadata": {},
   "outputs": [],
   "source": [
    "import matplotlib.pyplot as plt\n",
    "import seaborn as sns"
   ]
  },
  {
   "cell_type": "code",
   "execution_count": 27,
   "id": "a898ead5",
   "metadata": {},
   "outputs": [
    {
     "data": {
      "text/plain": [
       "Text(0.5, 1.0, 'No. of Clusters K vs MAP@12')"
      ]
     },
     "execution_count": 27,
     "metadata": {},
     "output_type": "execute_result"
    },
    {
     "data": {
      "image/png": "[encoded data removed]",
      "text/plain": [
       "<Figure size 576x432 with 1 Axes>"
      ]
     },
     "metadata": {
      "needs_background": "light"
     },
     "output_type": "display_data"
    }
   ],
   "source": [
    "plt.figure(figsize = (8,6))\n",
    "plt.plot([6,12,24], [0.0233,0.0234,0.0234],'x-')\n",
    "plt.xticks([6,12,24])\n",
    "ax = plt.gca()\n",
    "ax.set_xlabel(\"Value of K\", fontsize = 12)\n",
    "ax.set_ylabel(\"Mean Average Precision @ 12 (MAP@12)\", fontsize = 12)\n",
    "ax.set_title(\"No. of Clusters K vs MAP@12\",fontsize = 16)"
   ]
  },
  {
   "cell_type": "code",
   "execution_count": null,
   "id": "fbd224b0",
   "metadata": {},
   "outputs": [],
   "source": []
  }
 ],
 "metadata": {
  "kernelspec": {
   "display_name": "Python 3",
   "language": "python",
   "name": "python3"
  },
  "language_info": {
   "codemirror_mode": {
    "name": "ipython",
    "version": 3
   },
   "file_extension": ".py",
   "mimetype": "text/x-python",
   "name": "python",
   "nbconvert_exporter": "python",
   "pygments_lexer": "ipython3",
   "version": "3.8.13"
  },
  "papermill": {
   "default_parameters": {},
   "duration": 7272.447888,
   "end_time": "2022-03-02T14:43:45.965725",
   "environment_variables": {},
   "exception": null,
   "input_path": "__notebook__.ipynb",
   "output_path": "__notebook__.ipynb",
   "parameters": {},
   "start_time": "2022-03-02T12:42:33.517837",
   "version": "2.3.3"
  }
 },
 "nbformat": 4,
 "nbformat_minor": 5
}
