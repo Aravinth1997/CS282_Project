{
 "cells": [
  {
   "cell_type": "markdown",
   "id": "60d3b59e",
   "metadata": {
    "papermill": {
     "duration": 0.027287,
     "end_time": "2022-04-04T13:20:02.501034",
     "exception": false,
     "start_time": "2022-04-04T13:20:02.473747",
     "status": "completed"
    },
    "tags": []
   },
   "source": [
    "# H&M Recommendation Customer Clustering by Kmeans"
   ]
  },
  {
   "cell_type": "markdown",
   "id": "4c9ae1c6",
   "metadata": {
    "papermill": {
     "duration": 0.025132,
     "end_time": "2022-04-04T13:20:02.551931",
     "exception": false,
     "start_time": "2022-04-04T13:20:02.526799",
     "status": "completed"
    },
    "tags": []
   },
   "source": [
    "Thank you for looking my notebook.  \n",
    "This notebook is made with reference to　[By HechtJP -Rule-Base-by-Customer-Age](https://www.kaggle.com/code/hechtjp/h-m-eda-rule-base-by-customer-age).\n",
    "\n",
    "This notebook is my first public notebook.\n",
    "If this notebook helps you, I would appreciate your comments and up votes."
   ]
  },
  {
   "cell_type": "markdown",
   "id": "7c98cb02",
   "metadata": {
    "papermill": {
     "duration": 0.025042,
     "end_time": "2022-04-04T13:20:02.602032",
     "exception": false,
     "start_time": "2022-04-04T13:20:02.576990",
     "status": "completed"
    },
    "tags": []
   },
   "source": [
    "## 1.Library"
   ]
  },
  {
   "cell_type": "code",
   "execution_count": 1,
   "id": "48cdb27e",
   "metadata": {
    "execution": {
     "iopub.execute_input": "2022-04-04T13:20:02.661504Z",
     "iopub.status.busy": "2022-04-04T13:20:02.660345Z",
     "iopub.status.idle": "2022-04-04T13:20:07.069867Z",
     "shell.execute_reply": "2022-04-04T13:20:07.070410Z",
     "shell.execute_reply.started": "2022-04-04T13:07:41.009936Z"
    },
    "papermill": {
     "duration": 4.443793,
     "end_time": "2022-04-04T13:20:07.070759",
     "exception": false,
     "start_time": "2022-04-04T13:20:02.626966",
     "status": "completed"
    },
    "tags": []
   },
   "outputs": [],
   "source": [
    "import sys, warnings, time, os, copy, gc, re, random, pickle, cudf\n",
    "warnings.filterwarnings('ignore')\n",
    "from IPython.display import display\n",
    "import matplotlib.pyplot as plt\n",
    "import numpy as np\n",
    "import pandas as pd\n",
    "import seaborn as sns\n",
    "sns.set()\n",
    "from pandas.io.json import json_normalize\n",
    "from pprint import pprint\n",
    "from pathlib import Path\n",
    "from tqdm import tqdm\n",
    "tqdm.pandas()\n",
    "from collections import Counter\n",
    "from datetime import datetime, timedelta\n",
    "import cudf\n",
    "\n",
    "from sklearn.cluster import KMeans\n",
    "from sklearn import preprocessing"
   ]
  },
  {
   "cell_type": "markdown",
   "id": "7f240b6a",
   "metadata": {
    "papermill": {
     "duration": 0.023978,
     "end_time": "2022-04-04T13:20:07.119817",
     "exception": false,
     "start_time": "2022-04-04T13:20:07.095839",
     "status": "completed"
    },
    "tags": []
   },
   "source": [
    "## 2.Clutering"
   ]
  },
  {
   "cell_type": "markdown",
   "id": "bdb823cd",
   "metadata": {
    "papermill": {
     "duration": 0.023591,
     "end_time": "2022-04-04T13:20:07.167853",
     "exception": false,
     "start_time": "2022-04-04T13:20:07.144262",
     "status": "completed"
    },
    "tags": []
   },
   "source": [
    "There are preprocessing and clustering here.\n",
    "- preprocessing\n",
    "|columns|conversion|\n",
    "|:-:|:-:|\n",
    "|fashion_news_frequency|{np.nan :0, 'None':0, 'Monthly':1, 'Regularly':2}|\n",
    "|club_member_status|{np.nan :0, 'PRE-CREATE':1, 'ACTIVE':2, 'LEFT CLUB':-1}|\n",
    "|age|{np.nan:-1}|\n",
    "|FN|{np.nan:0}|\n",
    "|Active|{np.nan:0}|\n",
    "\n",
    "- clustering\n",
    "    - Normarization\n",
    "        1. StandardScaler\n",
    "        1. minMax\n",
    "        1. None\n",
    "    - parameters\n",
    "        1. random_state:2022\n",
    "        1. clusters:12\n"
   ]
  },
  {
   "cell_type": "code",
   "execution_count": 2,
   "id": "0cd05630",
   "metadata": {
    "execution": {
     "iopub.execute_input": "2022-04-04T13:20:07.234457Z",
     "iopub.status.busy": "2022-04-04T13:20:07.232017Z",
     "iopub.status.idle": "2022-04-04T13:20:07.237988Z",
     "shell.execute_reply": "2022-04-04T13:20:07.238529Z",
     "shell.execute_reply.started": "2022-04-04T13:07:42.841169Z"
    },
    "papermill": {
     "duration": 0.046196,
     "end_time": "2022-04-04T13:20:07.238677",
     "exception": false,
     "start_time": "2022-04-04T13:20:07.192481",
     "status": "completed"
    },
    "tags": []
   },
   "outputs": [],
   "source": [
    "class Clustering_HandM():\n",
    "    def customers_preprocessing(self, customers, dropcol=['postal_code'] , **kwargs):\n",
    "        customers = customers.drop(dropcol, axis=1)\n",
    "        customers_col = list(customers.columns)\n",
    "        \n",
    "        if 'fashion_news_frequency' in customers_col :\n",
    "            customers['fashion_news_frequency'] = customers['fashion_news_frequency'].replace('NONE','None')\n",
    "            customers['fashion_news_frequency'] = customers['fashion_news_frequency'].replace({np.nan :0, 'None':0, 'Monthly':1, 'Regularly':2})\n",
    "            \n",
    "        if 'club_member_status' in customers_col:\n",
    "            customers['club_member_status'] = customers['club_member_status'].replace({np.nan :0, 'PRE-CREATE':1, 'ACTIVE':2, 'LEFT CLUB':-1})\n",
    "            \n",
    "        if 'age' in customers_col:\n",
    "            customers['age'] = customers['age'].fillna(-1)\n",
    "            \n",
    "        if 'FN' in customers_col:\n",
    "            customers['FN'] = customers['FN'].fillna(0)\n",
    "\n",
    "        if 'Active' in customers_col:\n",
    "            customers['Active'] = customers['Active'].fillna(0)\n",
    "            \n",
    "            print(f'###NULL DESCRIPTION###\\n{customers.isnull().sum()}')\n",
    "            \n",
    "        return customers\n",
    "    \n",
    "    def clustering(self, df, predcol, usecol, normmethod='StandardScaler', clusters=12, DEBUG=False):\n",
    "        \n",
    "        X = np.array(df[usecol])\n",
    "        \n",
    "        if normmethod == 'StandardScaler':\n",
    "            nm = preprocessing.StandardScaler()\n",
    "            X = nm.fit_transform(X)\n",
    "        elif normmethod == 'minMax':\n",
    "            nm = preprocessing.MinMaxScaler()\n",
    "            X = nm.fit_transform(X)\n",
    "        print(f'NormarlizationMethod:{normmethod}')\n",
    "        \n",
    "        km = KMeans(n_clusters=clusters, random_state=2022)\n",
    "        km.fit(X)\n",
    "        print('Distortion: %.2f'% km.inertia_)\n",
    "\n",
    "        pred = km.labels_\n",
    "        df_pred = pd.DataFrame(pred, columns=['pred'])\n",
    "        df_pred = pd.concat([df, df_pred], axis=1)\n",
    "        \n",
    "        df_norm = pd.DataFrame(X, columns=usecol)\n",
    "        print(df_norm.describe())\n",
    "\n",
    "\n",
    "        if DEBUG:\n",
    "            df_norm = pd.concat([df[predcol], df_norm], axis=1)\n",
    "            return df_pred, df_norm\n",
    "        else:\n",
    "            return df_pred\n"
   ]
  },
  {
   "cell_type": "code",
   "execution_count": 5,
   "id": "bd92c9c0",
   "metadata": {
    "execution": {
     "iopub.execute_input": "2022-04-04T13:20:07.293866Z",
     "iopub.status.busy": "2022-04-04T13:20:07.292919Z",
     "iopub.status.idle": "2022-04-04T13:20:07.296416Z",
     "shell.execute_reply": "2022-04-04T13:20:07.295857Z",
     "shell.execute_reply.started": "2022-04-04T13:07:42.864309Z"
    },
    "papermill": {
     "duration": 0.03316,
     "end_time": "2022-04-04T13:20:07.296575",
     "exception": false,
     "start_time": "2022-04-04T13:20:07.263415",
     "status": "completed"
    },
    "tags": []
   },
   "outputs": [],
   "source": [
    "DEBUG = False\n",
    "PATH_INPUT = r'../dataset/'"
   ]
  },
  {
   "cell_type": "code",
   "execution_count": 6,
   "id": "f03dd71e",
   "metadata": {
    "execution": {
     "iopub.execute_input": "2022-04-04T13:20:07.351219Z",
     "iopub.status.busy": "2022-04-04T13:20:07.350242Z",
     "iopub.status.idle": "2022-04-04T13:20:37.647197Z",
     "shell.execute_reply": "2022-04-04T13:20:37.647810Z",
     "shell.execute_reply.started": "2022-04-04T13:07:42.883032Z"
    },
    "papermill": {
     "duration": 30.326061,
     "end_time": "2022-04-04T13:20:37.648000",
     "exception": false,
     "start_time": "2022-04-04T13:20:07.321939",
     "status": "completed"
    },
    "tags": []
   },
   "outputs": [
    {
     "name": "stdout",
     "output_type": "stream",
     "text": [
      "###NULL DESCRIPTION###\n",
      "customer_id               0\n",
      "FN                        0\n",
      "Active                    0\n",
      "club_member_status        0\n",
      "fashion_news_frequency    0\n",
      "age                       0\n",
      "dtype: int64\n",
      "NormarlizationMethod:StandardScaler\n",
      "Distortion: 215064.47\n",
      "       club_member_status  fashion_news_frequency           age            FN  \\\n",
      "count        1.371980e+06            1.371980e+06  1.371980e+06  1.371980e+06   \n",
      "mean         6.477082e-15           -1.226199e-15 -8.864969e-17  3.345628e-15   \n",
      "std          1.000000e+00            1.000000e+00  1.000000e+00  1.000000e+00   \n",
      "min         -1.017633e+01           -7.312792e-01 -2.500119e+00 -7.299677e-01   \n",
      "25%          2.702679e-01           -7.312792e-01 -8.087807e-01 -7.299677e-01   \n",
      "50%          2.702679e-01           -7.312792e-01 -3.352061e-01 -7.299677e-01   \n",
      "75%          2.702679e-01            1.368392e+00  8.825574e-01  1.369924e+00   \n",
      "max          2.702679e-01            1.368392e+00  4.265234e+00  1.369924e+00   \n",
      "\n",
      "             Active  \n",
      "count  1.371980e+06  \n",
      "mean  -4.038759e-15  \n",
      "std    1.000000e+00  \n",
      "min   -7.153301e-01  \n",
      "25%   -7.153301e-01  \n",
      "50%   -7.153301e-01  \n",
      "75%    1.397956e+00  \n",
      "max    1.397956e+00  \n"
     ]
    }
   ],
   "source": [
    "customers = pd.read_csv(PATH_INPUT + 'customers.csv')\n",
    "\n",
    "clst = Clustering_HandM()\n",
    "customers = clst.customers_preprocessing(customers)\n",
    "\n",
    "usecol = ['club_member_status', 'fashion_news_frequency', 'age', 'FN', 'Active']\n",
    "predcol = ['customer_id']\n",
    "\n",
    "dfCustomers = clst.clustering(customers, predcol=predcol, usecol=usecol, )"
   ]
  },
  {
   "cell_type": "markdown",
   "id": "43df7f16",
   "metadata": {
    "papermill": {
     "duration": 0.026291,
     "end_time": "2022-04-04T13:20:37.701465",
     "exception": false,
     "start_time": "2022-04-04T13:20:37.675174",
     "status": "completed"
    },
    "tags": []
   },
   "source": [
    "## 3.Comparison of Age_bins and ClusteringPred"
   ]
  },
  {
   "cell_type": "code",
   "execution_count": 7,
   "id": "c477c69b",
   "metadata": {
    "execution": {
     "iopub.execute_input": "2022-04-04T13:20:37.760905Z",
     "iopub.status.busy": "2022-04-04T13:20:37.759948Z",
     "iopub.status.idle": "2022-04-04T13:20:37.808059Z",
     "shell.execute_reply": "2022-04-04T13:20:37.807440Z",
     "shell.execute_reply.started": "2022-04-04T13:08:12.514982Z"
    },
    "papermill": {
     "duration": 0.080032,
     "end_time": "2022-04-04T13:20:37.808226",
     "exception": false,
     "start_time": "2022-04-04T13:20:37.728194",
     "status": "completed"
    },
    "tags": []
   },
   "outputs": [],
   "source": [
    "listBin = [-1, 19, 29, 39, 49, 59, 69, 119]\n",
    "dfCustomers['age_bins'] = pd.cut(dfCustomers['age'], listBin)"
   ]
  },
  {
   "cell_type": "code",
   "execution_count": 8,
   "id": "f57e0ef5",
   "metadata": {
    "execution": {
     "iopub.execute_input": "2022-04-04T13:20:37.869158Z",
     "iopub.status.busy": "2022-04-04T13:20:37.865565Z",
     "iopub.status.idle": "2022-04-04T13:20:38.022656Z",
     "shell.execute_reply": "2022-04-04T13:20:38.023251Z",
     "shell.execute_reply.started": "2022-04-04T13:08:12.566747Z"
    },
    "papermill": {
     "duration": 0.187856,
     "end_time": "2022-04-04T13:20:38.023454",
     "exception": false,
     "start_time": "2022-04-04T13:20:37.835598",
     "status": "completed"
    },
    "tags": []
   },
   "outputs": [
    {
     "data": {
      "text/html": [
       "<div>\n",
       "<style scoped>\n",
       "    .dataframe tbody tr th:only-of-type {\n",
       "        vertical-align: middle;\n",
       "    }\n",
       "\n",
       "    .dataframe tbody tr th {\n",
       "        vertical-align: top;\n",
       "    }\n",
       "\n",
       "    .dataframe thead th {\n",
       "        text-align: right;\n",
       "    }\n",
       "</style>\n",
       "<table border=\"1\" class=\"dataframe\">\n",
       "  <thead>\n",
       "    <tr style=\"text-align: right;\">\n",
       "      <th>age_bins</th>\n",
       "      <th>(-1, 19]</th>\n",
       "      <th>(19, 29]</th>\n",
       "      <th>(29, 39]</th>\n",
       "      <th>(39, 49]</th>\n",
       "      <th>(49, 59]</th>\n",
       "      <th>(59, 69]</th>\n",
       "      <th>(69, 119]</th>\n",
       "    </tr>\n",
       "    <tr>\n",
       "      <th>pred</th>\n",
       "      <th></th>\n",
       "      <th></th>\n",
       "      <th></th>\n",
       "      <th></th>\n",
       "      <th></th>\n",
       "      <th></th>\n",
       "      <th></th>\n",
       "    </tr>\n",
       "  </thead>\n",
       "  <tbody>\n",
       "    <tr>\n",
       "      <th>0</th>\n",
       "      <td>44051</td>\n",
       "      <td>203970</td>\n",
       "      <td>0</td>\n",
       "      <td>0</td>\n",
       "      <td>0</td>\n",
       "      <td>0</td>\n",
       "      <td>0</td>\n",
       "    </tr>\n",
       "    <tr>\n",
       "      <th>1</th>\n",
       "      <td>0</td>\n",
       "      <td>0</td>\n",
       "      <td>0</td>\n",
       "      <td>18252</td>\n",
       "      <td>80901</td>\n",
       "      <td>29081</td>\n",
       "      <td>8035</td>\n",
       "    </tr>\n",
       "    <tr>\n",
       "      <th>2</th>\n",
       "      <td>0</td>\n",
       "      <td>0</td>\n",
       "      <td>3987</td>\n",
       "      <td>16279</td>\n",
       "      <td>17716</td>\n",
       "      <td>5152</td>\n",
       "      <td>1374</td>\n",
       "    </tr>\n",
       "    <tr>\n",
       "      <th>3</th>\n",
       "      <td>0</td>\n",
       "      <td>0</td>\n",
       "      <td>0</td>\n",
       "      <td>0</td>\n",
       "      <td>61671</td>\n",
       "      <td>37126</td>\n",
       "      <td>9441</td>\n",
       "    </tr>\n",
       "    <tr>\n",
       "      <th>4</th>\n",
       "      <td>25355</td>\n",
       "      <td>173531</td>\n",
       "      <td>22165</td>\n",
       "      <td>0</td>\n",
       "      <td>0</td>\n",
       "      <td>0</td>\n",
       "      <td>0</td>\n",
       "    </tr>\n",
       "    <tr>\n",
       "      <th>5</th>\n",
       "      <td>0</td>\n",
       "      <td>121004</td>\n",
       "      <td>133438</td>\n",
       "      <td>0</td>\n",
       "      <td>0</td>\n",
       "      <td>0</td>\n",
       "      <td>0</td>\n",
       "    </tr>\n",
       "    <tr>\n",
       "      <th>6</th>\n",
       "      <td>160</td>\n",
       "      <td>1348</td>\n",
       "      <td>803</td>\n",
       "      <td>783</td>\n",
       "      <td>628</td>\n",
       "      <td>200</td>\n",
       "      <td>51</td>\n",
       "    </tr>\n",
       "    <tr>\n",
       "      <th>7</th>\n",
       "      <td>16</td>\n",
       "      <td>861</td>\n",
       "      <td>1113</td>\n",
       "      <td>1328</td>\n",
       "      <td>1690</td>\n",
       "      <td>719</td>\n",
       "      <td>226</td>\n",
       "    </tr>\n",
       "    <tr>\n",
       "      <th>8</th>\n",
       "      <td>1130</td>\n",
       "      <td>21436</td>\n",
       "      <td>12864</td>\n",
       "      <td>0</td>\n",
       "      <td>0</td>\n",
       "      <td>0</td>\n",
       "      <td>0</td>\n",
       "    </tr>\n",
       "    <tr>\n",
       "      <th>9</th>\n",
       "      <td>0</td>\n",
       "      <td>0</td>\n",
       "      <td>8184</td>\n",
       "      <td>114186</td>\n",
       "      <td>62145</td>\n",
       "      <td>0</td>\n",
       "      <td>0</td>\n",
       "    </tr>\n",
       "    <tr>\n",
       "      <th>10</th>\n",
       "      <td>871</td>\n",
       "      <td>6208</td>\n",
       "      <td>2393</td>\n",
       "      <td>1936</td>\n",
       "      <td>1491</td>\n",
       "      <td>345</td>\n",
       "      <td>0</td>\n",
       "    </tr>\n",
       "    <tr>\n",
       "      <th>11</th>\n",
       "      <td>0</td>\n",
       "      <td>0</td>\n",
       "      <td>49121</td>\n",
       "      <td>51354</td>\n",
       "      <td>0</td>\n",
       "      <td>0</td>\n",
       "      <td>0</td>\n",
       "    </tr>\n",
       "  </tbody>\n",
       "</table>\n",
       "</div>"
      ],
      "text/plain": [
       "age_bins  (-1, 19]  (19, 29]  (29, 39]  (39, 49]  (49, 59]  (59, 69]  \\\n",
       "pred                                                                   \n",
       "0            44051    203970         0         0         0         0   \n",
       "1                0         0         0     18252     80901     29081   \n",
       "2                0         0      3987     16279     17716      5152   \n",
       "3                0         0         0         0     61671     37126   \n",
       "4            25355    173531     22165         0         0         0   \n",
       "5                0    121004    133438         0         0         0   \n",
       "6              160      1348       803       783       628       200   \n",
       "7               16       861      1113      1328      1690       719   \n",
       "8             1130     21436     12864         0         0         0   \n",
       "9                0         0      8184    114186     62145         0   \n",
       "10             871      6208      2393      1936      1491       345   \n",
       "11               0         0     49121     51354         0         0   \n",
       "\n",
       "age_bins  (69, 119]  \n",
       "pred                 \n",
       "0                 0  \n",
       "1              8035  \n",
       "2              1374  \n",
       "3              9441  \n",
       "4                 0  \n",
       "5                 0  \n",
       "6                51  \n",
       "7               226  \n",
       "8                 0  \n",
       "9                 0  \n",
       "10                0  \n",
       "11                0  "
      ]
     },
     "execution_count": 8,
     "metadata": {},
     "output_type": "execute_result"
    }
   ],
   "source": [
    "pd.crosstab(dfCustomers['pred'], dfCustomers['age_bins'])"
   ]
  },
  {
   "cell_type": "code",
   "execution_count": 9,
   "id": "5d2917ae",
   "metadata": {
    "execution": {
     "iopub.execute_input": "2022-04-04T13:20:38.086616Z",
     "iopub.status.busy": "2022-04-04T13:20:38.084877Z",
     "iopub.status.idle": "2022-04-04T13:20:38.176620Z",
     "shell.execute_reply": "2022-04-04T13:20:38.176015Z",
     "shell.execute_reply.started": "2022-04-04T13:08:12.750157Z"
    },
    "papermill": {
     "duration": 0.125887,
     "end_time": "2022-04-04T13:20:38.176784",
     "exception": false,
     "start_time": "2022-04-04T13:20:38.050897",
     "status": "completed"
    },
    "tags": []
   },
   "outputs": [],
   "source": [
    "dfCustomers = dfCustomers.drop(['age_bins'], axis=1)"
   ]
  },
  {
   "cell_type": "markdown",
   "id": "af446136",
   "metadata": {
    "papermill": {
     "duration": 0.026818,
     "end_time": "2022-04-04T13:20:38.232359",
     "exception": false,
     "start_time": "2022-04-04T13:20:38.205541",
     "status": "completed"
    },
    "tags": []
   },
   "source": [
    "## 4.EDA of recent popular articles of each Pred\n",
    "[Reference](https://www.kaggle.com/code/hechtjp/h-m-eda-rule-base-by-customer-age)"
   ]
  },
  {
   "cell_type": "code",
   "execution_count": 10,
   "id": "f0a17b09",
   "metadata": {
    "execution": {
     "iopub.execute_input": "2022-04-04T13:20:38.294928Z",
     "iopub.status.busy": "2022-04-04T13:20:38.294165Z",
     "iopub.status.idle": "2022-04-04T13:21:18.129851Z",
     "shell.execute_reply": "2022-04-04T13:21:18.130404Z",
     "shell.execute_reply.started": "2022-04-04T13:08:12.843969Z"
    },
    "papermill": {
     "duration": 39.871005,
     "end_time": "2022-04-04T13:21:18.130599",
     "exception": false,
     "start_time": "2022-04-04T13:20:38.259594",
     "status": "completed"
    },
    "tags": []
   },
   "outputs": [
    {
     "ename": "MemoryError",
     "evalue": "std::bad_alloc: out_of_memory: CUDA error at: /workspace/.conda-bld/work/include/rmm/mr/device/cuda_memory_resource.hpp:70: cudaErrorMemoryAllocation out of memory",
     "output_type": "error",
     "traceback": [
      "\u001b[0;31m---------------------------------------------------------------------------\u001b[0m",
      "\u001b[0;31mMemoryError\u001b[0m                               Traceback (most recent call last)",
      "\u001b[1;32m/home/aditya/h-m-eda-customer-clustering-by-kmeans.ipynb Cell 15'\u001b[0m in \u001b[0;36m<cell line: 1>\u001b[0;34m()\u001b[0m\n\u001b[0;32m----> <a href='vscode-notebook-cell://ssh-remote%2B282-new-vm/home/aditya/h-m-eda-customer-clustering-by-kmeans.ipynb#ch0000014vscode-remote?line=0'>1</a>\u001b[0m dfTransactions \u001b[39m=\u001b[39m cudf\u001b[39m.\u001b[39;49mread_csv(PATH_INPUT \u001b[39m+\u001b[39;49m \u001b[39m'\u001b[39;49m\u001b[39mtransactions_train.csv\u001b[39;49m\u001b[39m'\u001b[39;49m,  \n\u001b[1;32m      <a href='vscode-notebook-cell://ssh-remote%2B282-new-vm/home/aditya/h-m-eda-customer-clustering-by-kmeans.ipynb#ch0000014vscode-remote?line=1'>2</a>\u001b[0m                                usecols\u001b[39m=\u001b[39;49m[\u001b[39m'\u001b[39;49m\u001b[39mt_dat\u001b[39;49m\u001b[39m'\u001b[39;49m, \u001b[39m'\u001b[39;49m\u001b[39mcustomer_id\u001b[39;49m\u001b[39m'\u001b[39;49m, \u001b[39m'\u001b[39;49m\u001b[39marticle_id\u001b[39;49m\u001b[39m'\u001b[39;49m],\n\u001b[1;32m      <a href='vscode-notebook-cell://ssh-remote%2B282-new-vm/home/aditya/h-m-eda-customer-clustering-by-kmeans.ipynb#ch0000014vscode-remote?line=2'>3</a>\u001b[0m                                dtype\u001b[39m=\u001b[39;49m{\u001b[39m'\u001b[39;49m\u001b[39marticle_id\u001b[39;49m\u001b[39m'\u001b[39;49m: \u001b[39m'\u001b[39;49m\u001b[39mint32\u001b[39;49m\u001b[39m'\u001b[39;49m, \u001b[39m'\u001b[39;49m\u001b[39mt_dat\u001b[39;49m\u001b[39m'\u001b[39;49m: \u001b[39m'\u001b[39;49m\u001b[39mstring\u001b[39;49m\u001b[39m'\u001b[39;49m, \u001b[39m'\u001b[39;49m\u001b[39mcustomer_id\u001b[39;49m\u001b[39m'\u001b[39;49m: \u001b[39m'\u001b[39;49m\u001b[39mstring\u001b[39;49m\u001b[39m'\u001b[39;49m})\n\u001b[1;32m      <a href='vscode-notebook-cell://ssh-remote%2B282-new-vm/home/aditya/h-m-eda-customer-clustering-by-kmeans.ipynb#ch0000014vscode-remote?line=3'>4</a>\u001b[0m dfTransactions[\u001b[39m'\u001b[39m\u001b[39mt_dat\u001b[39m\u001b[39m'\u001b[39m] \u001b[39m=\u001b[39m cudf\u001b[39m.\u001b[39mto_datetime(dfTransactions[\u001b[39m'\u001b[39m\u001b[39mt_dat\u001b[39m\u001b[39m'\u001b[39m])\n\u001b[1;32m      <a href='vscode-notebook-cell://ssh-remote%2B282-new-vm/home/aditya/h-m-eda-customer-clustering-by-kmeans.ipynb#ch0000014vscode-remote?line=4'>5</a>\u001b[0m dfTransactions\u001b[39m.\u001b[39mset_index(\u001b[39m'\u001b[39m\u001b[39mt_dat\u001b[39m\u001b[39m'\u001b[39m, inplace\u001b[39m=\u001b[39m\u001b[39mTrue\u001b[39;00m)\n",
      "File \u001b[0;32m/opt/conda/envs/cs282/lib/python3.8/contextlib.py:75\u001b[0m, in \u001b[0;36mContextDecorator.__call__.<locals>.inner\u001b[0;34m(*args, **kwds)\u001b[0m\n\u001b[1;32m     <a href='file:///opt/conda/envs/cs282/lib/python3.8/contextlib.py?line=71'>72</a>\u001b[0m \u001b[39m@wraps\u001b[39m(func)\n\u001b[1;32m     <a href='file:///opt/conda/envs/cs282/lib/python3.8/contextlib.py?line=72'>73</a>\u001b[0m \u001b[39mdef\u001b[39;00m \u001b[39minner\u001b[39m(\u001b[39m*\u001b[39margs, \u001b[39m*\u001b[39m\u001b[39m*\u001b[39mkwds):\n\u001b[1;32m     <a href='file:///opt/conda/envs/cs282/lib/python3.8/contextlib.py?line=73'>74</a>\u001b[0m     \u001b[39mwith\u001b[39;00m \u001b[39mself\u001b[39m\u001b[39m.\u001b[39m_recreate_cm():\n\u001b[0;32m---> <a href='file:///opt/conda/envs/cs282/lib/python3.8/contextlib.py?line=74'>75</a>\u001b[0m         \u001b[39mreturn\u001b[39;00m func(\u001b[39m*\u001b[39;49margs, \u001b[39m*\u001b[39;49m\u001b[39m*\u001b[39;49mkwds)\n",
      "File \u001b[0;32m/opt/conda/envs/cs282/lib/python3.8/site-packages/cudf/io/csv.py:73\u001b[0m, in \u001b[0;36mread_csv\u001b[0;34m(filepath_or_buffer, lineterminator, quotechar, quoting, doublequote, header, mangle_dupe_cols, usecols, sep, delimiter, delim_whitespace, skipinitialspace, names, dtype, skipfooter, skiprows, dayfirst, compression, thousands, decimal, true_values, false_values, nrows, byte_range, skip_blank_lines, parse_dates, comment, na_values, keep_default_na, na_filter, prefix, index_col, use_python_file_object, **kwargs)\u001b[0m\n\u001b[1;32m     <a href='file:///opt/conda/envs/cs282/lib/python3.8/site-packages/cudf/io/csv.py?line=69'>70</a>\u001b[0m \u001b[39mif\u001b[39;00m na_values \u001b[39mis\u001b[39;00m \u001b[39mnot\u001b[39;00m \u001b[39mNone\u001b[39;00m \u001b[39mand\u001b[39;00m is_scalar(na_values):\n\u001b[1;32m     <a href='file:///opt/conda/envs/cs282/lib/python3.8/site-packages/cudf/io/csv.py?line=70'>71</a>\u001b[0m     na_values \u001b[39m=\u001b[39m [na_values]\n\u001b[0;32m---> <a href='file:///opt/conda/envs/cs282/lib/python3.8/site-packages/cudf/io/csv.py?line=72'>73</a>\u001b[0m \u001b[39mreturn\u001b[39;00m libcudf\u001b[39m.\u001b[39;49mcsv\u001b[39m.\u001b[39;49mread_csv(\n\u001b[1;32m     <a href='file:///opt/conda/envs/cs282/lib/python3.8/site-packages/cudf/io/csv.py?line=73'>74</a>\u001b[0m     filepath_or_buffer,\n\u001b[1;32m     <a href='file:///opt/conda/envs/cs282/lib/python3.8/site-packages/cudf/io/csv.py?line=74'>75</a>\u001b[0m     lineterminator\u001b[39m=\u001b[39;49mlineterminator,\n\u001b[1;32m     <a href='file:///opt/conda/envs/cs282/lib/python3.8/site-packages/cudf/io/csv.py?line=75'>76</a>\u001b[0m     quotechar\u001b[39m=\u001b[39;49mquotechar,\n\u001b[1;32m     <a href='file:///opt/conda/envs/cs282/lib/python3.8/site-packages/cudf/io/csv.py?line=76'>77</a>\u001b[0m     quoting\u001b[39m=\u001b[39;49mquoting,\n\u001b[1;32m     <a href='file:///opt/conda/envs/cs282/lib/python3.8/site-packages/cudf/io/csv.py?line=77'>78</a>\u001b[0m     doublequote\u001b[39m=\u001b[39;49mdoublequote,\n\u001b[1;32m     <a href='file:///opt/conda/envs/cs282/lib/python3.8/site-packages/cudf/io/csv.py?line=78'>79</a>\u001b[0m     header\u001b[39m=\u001b[39;49mheader,\n\u001b[1;32m     <a href='file:///opt/conda/envs/cs282/lib/python3.8/site-packages/cudf/io/csv.py?line=79'>80</a>\u001b[0m     mangle_dupe_cols\u001b[39m=\u001b[39;49mmangle_dupe_cols,\n\u001b[1;32m     <a href='file:///opt/conda/envs/cs282/lib/python3.8/site-packages/cudf/io/csv.py?line=80'>81</a>\u001b[0m     usecols\u001b[39m=\u001b[39;49musecols,\n\u001b[1;32m     <a href='file:///opt/conda/envs/cs282/lib/python3.8/site-packages/cudf/io/csv.py?line=81'>82</a>\u001b[0m     sep\u001b[39m=\u001b[39;49msep,\n\u001b[1;32m     <a href='file:///opt/conda/envs/cs282/lib/python3.8/site-packages/cudf/io/csv.py?line=82'>83</a>\u001b[0m     delimiter\u001b[39m=\u001b[39;49mdelimiter,\n\u001b[1;32m     <a href='file:///opt/conda/envs/cs282/lib/python3.8/site-packages/cudf/io/csv.py?line=83'>84</a>\u001b[0m     delim_whitespace\u001b[39m=\u001b[39;49mdelim_whitespace,\n\u001b[1;32m     <a href='file:///opt/conda/envs/cs282/lib/python3.8/site-packages/cudf/io/csv.py?line=84'>85</a>\u001b[0m     skipinitialspace\u001b[39m=\u001b[39;49mskipinitialspace,\n\u001b[1;32m     <a href='file:///opt/conda/envs/cs282/lib/python3.8/site-packages/cudf/io/csv.py?line=85'>86</a>\u001b[0m     names\u001b[39m=\u001b[39;49mnames,\n\u001b[1;32m     <a href='file:///opt/conda/envs/cs282/lib/python3.8/site-packages/cudf/io/csv.py?line=86'>87</a>\u001b[0m     dtype\u001b[39m=\u001b[39;49mdtype,\n\u001b[1;32m     <a href='file:///opt/conda/envs/cs282/lib/python3.8/site-packages/cudf/io/csv.py?line=87'>88</a>\u001b[0m     skipfooter\u001b[39m=\u001b[39;49mskipfooter,\n\u001b[1;32m     <a href='file:///opt/conda/envs/cs282/lib/python3.8/site-packages/cudf/io/csv.py?line=88'>89</a>\u001b[0m     skiprows\u001b[39m=\u001b[39;49mskiprows,\n\u001b[1;32m     <a href='file:///opt/conda/envs/cs282/lib/python3.8/site-packages/cudf/io/csv.py?line=89'>90</a>\u001b[0m     dayfirst\u001b[39m=\u001b[39;49mdayfirst,\n\u001b[1;32m     <a href='file:///opt/conda/envs/cs282/lib/python3.8/site-packages/cudf/io/csv.py?line=90'>91</a>\u001b[0m     compression\u001b[39m=\u001b[39;49mcompression,\n\u001b[1;32m     <a href='file:///opt/conda/envs/cs282/lib/python3.8/site-packages/cudf/io/csv.py?line=91'>92</a>\u001b[0m     thousands\u001b[39m=\u001b[39;49mthousands,\n\u001b[1;32m     <a href='file:///opt/conda/envs/cs282/lib/python3.8/site-packages/cudf/io/csv.py?line=92'>93</a>\u001b[0m     decimal\u001b[39m=\u001b[39;49mdecimal,\n\u001b[1;32m     <a href='file:///opt/conda/envs/cs282/lib/python3.8/site-packages/cudf/io/csv.py?line=93'>94</a>\u001b[0m     true_values\u001b[39m=\u001b[39;49mtrue_values,\n\u001b[1;32m     <a href='file:///opt/conda/envs/cs282/lib/python3.8/site-packages/cudf/io/csv.py?line=94'>95</a>\u001b[0m     false_values\u001b[39m=\u001b[39;49mfalse_values,\n\u001b[1;32m     <a href='file:///opt/conda/envs/cs282/lib/python3.8/site-packages/cudf/io/csv.py?line=95'>96</a>\u001b[0m     nrows\u001b[39m=\u001b[39;49mnrows,\n\u001b[1;32m     <a href='file:///opt/conda/envs/cs282/lib/python3.8/site-packages/cudf/io/csv.py?line=96'>97</a>\u001b[0m     byte_range\u001b[39m=\u001b[39;49mbyte_range,\n\u001b[1;32m     <a href='file:///opt/conda/envs/cs282/lib/python3.8/site-packages/cudf/io/csv.py?line=97'>98</a>\u001b[0m     skip_blank_lines\u001b[39m=\u001b[39;49mskip_blank_lines,\n\u001b[1;32m     <a href='file:///opt/conda/envs/cs282/lib/python3.8/site-packages/cudf/io/csv.py?line=98'>99</a>\u001b[0m     parse_dates\u001b[39m=\u001b[39;49mparse_dates,\n\u001b[1;32m    <a href='file:///opt/conda/envs/cs282/lib/python3.8/site-packages/cudf/io/csv.py?line=99'>100</a>\u001b[0m     comment\u001b[39m=\u001b[39;49mcomment,\n\u001b[1;32m    <a href='file:///opt/conda/envs/cs282/lib/python3.8/site-packages/cudf/io/csv.py?line=100'>101</a>\u001b[0m     na_values\u001b[39m=\u001b[39;49mna_values,\n\u001b[1;32m    <a href='file:///opt/conda/envs/cs282/lib/python3.8/site-packages/cudf/io/csv.py?line=101'>102</a>\u001b[0m     keep_default_na\u001b[39m=\u001b[39;49mkeep_default_na,\n\u001b[1;32m    <a href='file:///opt/conda/envs/cs282/lib/python3.8/site-packages/cudf/io/csv.py?line=102'>103</a>\u001b[0m     na_filter\u001b[39m=\u001b[39;49mna_filter,\n\u001b[1;32m    <a href='file:///opt/conda/envs/cs282/lib/python3.8/site-packages/cudf/io/csv.py?line=103'>104</a>\u001b[0m     prefix\u001b[39m=\u001b[39;49mprefix,\n\u001b[1;32m    <a href='file:///opt/conda/envs/cs282/lib/python3.8/site-packages/cudf/io/csv.py?line=104'>105</a>\u001b[0m     index_col\u001b[39m=\u001b[39;49mindex_col,\n\u001b[1;32m    <a href='file:///opt/conda/envs/cs282/lib/python3.8/site-packages/cudf/io/csv.py?line=105'>106</a>\u001b[0m )\n",
      "File \u001b[0;32mcudf/_lib/csv.pyx:430\u001b[0m, in \u001b[0;36mcudf._lib.csv.read_csv\u001b[0;34m()\u001b[0m\n",
      "\u001b[0;31mMemoryError\u001b[0m: std::bad_alloc: out_of_memory: CUDA error at: /workspace/.conda-bld/work/include/rmm/mr/device/cuda_memory_resource.hpp:70: cudaErrorMemoryAllocation out of memory"
     ]
    }
   ],
   "source": [
    "dfTransactions = cudf.read_csv(PATH_INPUT + 'transactions_train.csv',  \n",
    "                               usecols=['t_dat', 'customer_id', 'article_id'],\n",
    "                               dtype={'article_id': 'int32', 't_dat': 'string', 'customer_id': 'string'})\n",
    "dfTransactions['t_dat'] = cudf.to_datetime(dfTransactions['t_dat'])\n",
    "dfTransactions.set_index('t_dat', inplace=True)\n",
    "dfTransactions.head()"
   ]
  },
  {
   "cell_type": "code",
   "execution_count": null,
   "id": "02180619",
   "metadata": {
    "execution": {
     "iopub.execute_input": "2022-04-04T13:21:18.192161Z",
     "iopub.status.busy": "2022-04-04T13:21:18.191417Z",
     "iopub.status.idle": "2022-04-04T13:21:19.542678Z",
     "shell.execute_reply": "2022-04-04T13:21:19.543522Z",
     "shell.execute_reply.started": "2022-04-04T13:08:15.880474Z"
    },
    "papermill": {
     "duration": 1.385071,
     "end_time": "2022-04-04T13:21:19.543824",
     "exception": false,
     "start_time": "2022-04-04T13:21:18.158753",
     "status": "completed"
    },
    "tags": []
   },
   "outputs": [
    {
     "data": {
      "text/html": [
       "<div>\n",
       "<style scoped>\n",
       "    .dataframe tbody tr th:only-of-type {\n",
       "        vertical-align: middle;\n",
       "    }\n",
       "\n",
       "    .dataframe tbody tr th {\n",
       "        vertical-align: top;\n",
       "    }\n",
       "\n",
       "    .dataframe thead th {\n",
       "        text-align: right;\n",
       "    }\n",
       "</style>\n",
       "<table border=\"1\" class=\"dataframe\">\n",
       "  <thead>\n",
       "    <tr style=\"text-align: right;\">\n",
       "      <th></th>\n",
       "      <th>customer_id</th>\n",
       "      <th>article_id</th>\n",
       "    </tr>\n",
       "    <tr>\n",
       "      <th>t_dat</th>\n",
       "      <th></th>\n",
       "      <th></th>\n",
       "    </tr>\n",
       "  </thead>\n",
       "  <tbody>\n",
       "    <tr>\n",
       "      <th>2020-09-01</th>\n",
       "      <td>0001d44dbe7f6c4b35200abdb052c77a87596fe1bdcc37...</td>\n",
       "      <td>777148006</td>\n",
       "    </tr>\n",
       "    <tr>\n",
       "      <th>2020-09-01</th>\n",
       "      <td>0001d44dbe7f6c4b35200abdb052c77a87596fe1bdcc37...</td>\n",
       "      <td>835801001</td>\n",
       "    </tr>\n",
       "    <tr>\n",
       "      <th>2020-09-01</th>\n",
       "      <td>0001d44dbe7f6c4b35200abdb052c77a87596fe1bdcc37...</td>\n",
       "      <td>923134005</td>\n",
       "    </tr>\n",
       "    <tr>\n",
       "      <th>2020-09-01</th>\n",
       "      <td>0001d44dbe7f6c4b35200abdb052c77a87596fe1bdcc37...</td>\n",
       "      <td>865929003</td>\n",
       "    </tr>\n",
       "    <tr>\n",
       "      <th>2020-09-01</th>\n",
       "      <td>0005ed68483efa39644c45185550a82dd09acb07622acb...</td>\n",
       "      <td>863646004</td>\n",
       "    </tr>\n",
       "  </tbody>\n",
       "</table>\n",
       "</div>"
      ],
      "text/plain": [
       "                                                  customer_id  article_id\n",
       "t_dat                                                                    \n",
       "2020-09-01  0001d44dbe7f6c4b35200abdb052c77a87596fe1bdcc37...   777148006\n",
       "2020-09-01  0001d44dbe7f6c4b35200abdb052c77a87596fe1bdcc37...   835801001\n",
       "2020-09-01  0001d44dbe7f6c4b35200abdb052c77a87596fe1bdcc37...   923134005\n",
       "2020-09-01  0001d44dbe7f6c4b35200abdb052c77a87596fe1bdcc37...   865929003\n",
       "2020-09-01  0005ed68483efa39644c45185550a82dd09acb07622acb...   863646004"
      ]
     },
     "execution_count": 9,
     "metadata": {},
     "output_type": "execute_result"
    }
   ],
   "source": [
    "dfRecent = dfTransactions.loc['2020-09-01' : '2020-09-21']\n",
    "dfRecent.head()"
   ]
  },
  {
   "cell_type": "code",
   "execution_count": null,
   "id": "a4214a56",
   "metadata": {
    "execution": {
     "iopub.execute_input": "2022-04-04T13:21:19.653450Z",
     "iopub.status.busy": "2022-04-04T13:21:19.652529Z",
     "iopub.status.idle": "2022-04-04T13:21:21.367827Z",
     "shell.execute_reply": "2022-04-04T13:21:21.368627Z",
     "shell.execute_reply.started": "2022-04-04T13:08:16.553897Z"
    },
    "papermill": {
     "duration": 1.777751,
     "end_time": "2022-04-04T13:21:21.368800",
     "exception": false,
     "start_time": "2022-04-04T13:21:19.591049",
     "status": "completed"
    },
    "tags": []
   },
   "outputs": [
    {
     "data": {
      "text/html": [
       "<div>\n",
       "<style scoped>\n",
       "    .dataframe tbody tr th:only-of-type {\n",
       "        vertical-align: middle;\n",
       "    }\n",
       "\n",
       "    .dataframe tbody tr th {\n",
       "        vertical-align: top;\n",
       "    }\n",
       "\n",
       "    .dataframe thead th {\n",
       "        text-align: right;\n",
       "    }\n",
       "</style>\n",
       "<table border=\"1\" class=\"dataframe\">\n",
       "  <thead>\n",
       "    <tr style=\"text-align: right;\">\n",
       "      <th></th>\n",
       "      <th>customer_id</th>\n",
       "      <th>article_id</th>\n",
       "      <th>pred</th>\n",
       "    </tr>\n",
       "  </thead>\n",
       "  <tbody>\n",
       "    <tr>\n",
       "      <th>0</th>\n",
       "      <td>0001d44dbe7f6c4b35200abdb052c77a87596fe1bdcc37...</td>\n",
       "      <td>777148006</td>\n",
       "      <td>11</td>\n",
       "    </tr>\n",
       "    <tr>\n",
       "      <th>1</th>\n",
       "      <td>0001d44dbe7f6c4b35200abdb052c77a87596fe1bdcc37...</td>\n",
       "      <td>835801001</td>\n",
       "      <td>11</td>\n",
       "    </tr>\n",
       "    <tr>\n",
       "      <th>2</th>\n",
       "      <td>0001d44dbe7f6c4b35200abdb052c77a87596fe1bdcc37...</td>\n",
       "      <td>923134005</td>\n",
       "      <td>11</td>\n",
       "    </tr>\n",
       "    <tr>\n",
       "      <th>3</th>\n",
       "      <td>0001d44dbe7f6c4b35200abdb052c77a87596fe1bdcc37...</td>\n",
       "      <td>865929003</td>\n",
       "      <td>11</td>\n",
       "    </tr>\n",
       "    <tr>\n",
       "      <th>4</th>\n",
       "      <td>0001d44dbe7f6c4b35200abdb052c77a87596fe1bdcc37...</td>\n",
       "      <td>572998013</td>\n",
       "      <td>11</td>\n",
       "    </tr>\n",
       "  </tbody>\n",
       "</table>\n",
       "</div>"
      ],
      "text/plain": [
       "                                         customer_id  article_id  pred\n",
       "0  0001d44dbe7f6c4b35200abdb052c77a87596fe1bdcc37...   777148006    11\n",
       "1  0001d44dbe7f6c4b35200abdb052c77a87596fe1bdcc37...   835801001    11\n",
       "2  0001d44dbe7f6c4b35200abdb052c77a87596fe1bdcc37...   923134005    11\n",
       "3  0001d44dbe7f6c4b35200abdb052c77a87596fe1bdcc37...   865929003    11\n",
       "4  0001d44dbe7f6c4b35200abdb052c77a87596fe1bdcc37...   572998013    11"
      ]
     },
     "execution_count": 10,
     "metadata": {},
     "output_type": "execute_result"
    }
   ],
   "source": [
    "dfRecent = dfRecent.to_pandas()\n",
    "# dfRecent = dfRecent.merge(dfCustomers[['customer_id', 'age_bins']], on='customer_id', how='inner')\n",
    "dfRecent = dfRecent.merge(dfCustomers[['customer_id', 'pred']], on='customer_id', how='inner')\n",
    "dfRecent.head()"
   ]
  },
  {
   "cell_type": "code",
   "execution_count": null,
   "id": "f0709e62",
   "metadata": {
    "execution": {
     "iopub.execute_input": "2022-04-04T13:21:21.442329Z",
     "iopub.status.busy": "2022-04-04T13:21:21.440916Z",
     "iopub.status.idle": "2022-04-04T13:21:21.639029Z",
     "shell.execute_reply": "2022-04-04T13:21:21.638431Z",
     "shell.execute_reply.started": "2022-04-04T13:08:18.072564Z"
    },
    "papermill": {
     "duration": 0.239514,
     "end_time": "2022-04-04T13:21:21.639231",
     "exception": false,
     "start_time": "2022-04-04T13:21:21.399717",
     "status": "completed"
    },
    "tags": []
   },
   "outputs": [],
   "source": [
    "dfRecent = dfRecent.groupby(['pred', 'article_id']).count().reset_index().rename(columns={'customer_id': 'counts'})\n",
    "listUniBins = dfRecent['pred'].unique().tolist()\n",
    "\n",
    "dict100 = {}\n",
    "for uniBin in listUniBins:\n",
    "    # dfTemp = dfRecent[dfRecent['age_bins'] == uniBin]\n",
    "    dfTemp = dfRecent[dfRecent['pred'] == uniBin]\n",
    "    dfTemp = dfTemp.sort_values(by='counts', ascending=False)\n",
    "    dict100[uniBin] = dfTemp.head(100)['article_id'].values.tolist()\n",
    "\n",
    "df100 = pd.DataFrame([dict100]).T.rename(columns={0:'top100'})"
   ]
  },
  {
   "cell_type": "code",
   "execution_count": null,
   "id": "73751b68",
   "metadata": {
    "execution": {
     "iopub.execute_input": "2022-04-04T13:21:21.731308Z",
     "iopub.status.busy": "2022-04-04T13:21:21.730220Z",
     "iopub.status.idle": "2022-04-04T13:21:22.826571Z",
     "shell.execute_reply": "2022-04-04T13:21:22.827162Z",
     "shell.execute_reply.started": "2022-04-04T13:08:18.398056Z"
    },
    "papermill": {
     "duration": 1.156458,
     "end_time": "2022-04-04T13:21:22.827351",
     "exception": false,
     "start_time": "2022-04-04T13:21:21.670893",
     "status": "completed"
    },
    "tags": []
   },
   "outputs": [
    {
     "data": {
      "text/plain": [
       "<AxesSubplot:>"
      ]
     },
     "execution_count": 12,
     "metadata": {},
     "output_type": "execute_result"
    },
    {
     "data": {
      "image/png": "[encoded data removed]",
      "text/plain": [
       "<Figure size 720x432 with 1 Axes>"
      ]
     },
     "metadata": {},
     "output_type": "display_data"
    }
   ],
   "source": [
    "for index in df100.index:\n",
    "    df100[index] = [len(set(df100.at[index, 'top100']) & set(df100.at[x, 'top100']))/100 for x in df100.index]\n",
    "\n",
    "df100 = df100.drop(columns='top100')\n",
    "plt.figure(figsize=(10, 6))\n",
    "sns.heatmap(df100, annot=True, cbar=False)"
   ]
  },
  {
   "cell_type": "markdown",
   "id": "151a7d75",
   "metadata": {
    "papermill": {
     "duration": 0.031907,
     "end_time": "2022-04-04T13:21:22.891467",
     "exception": false,
     "start_time": "2022-04-04T13:21:22.859560",
     "status": "completed"
    },
    "tags": []
   },
   "source": [
    "## 5.Prediction\n",
    "[H&M EDA & Rule Base by Customer Age](https://www.kaggle.com/code/hechtjp/h-m-eda-rule-base-by-customer-age)\n",
    "[H&M: Faster Trending Products Weekly](https://www.kaggle.com/code/hervind/h-m-faster-trending-products-weekly/notebook)"
   ]
  },
  {
   "cell_type": "code",
   "execution_count": null,
   "id": "25ac154f",
   "metadata": {
    "execution": {
     "iopub.execute_input": "2022-04-04T13:21:22.960497Z",
     "iopub.status.busy": "2022-04-04T13:21:22.959576Z",
     "iopub.status.idle": "2022-04-04T13:21:22.970282Z",
     "shell.execute_reply": "2022-04-04T13:21:22.970791Z",
     "shell.execute_reply.started": "2022-04-04T13:08:19.555576Z"
    },
    "papermill": {
     "duration": 0.047755,
     "end_time": "2022-04-04T13:21:22.970953",
     "exception": false,
     "start_time": "2022-04-04T13:21:22.923198",
     "status": "completed"
    },
    "tags": []
   },
   "outputs": [],
   "source": [
    "N = 12\n",
    "listUniBins = dfCustomers['pred'].unique().tolist()"
   ]
  },
  {
   "cell_type": "code",
   "execution_count": null,
   "id": "0ea0550e",
   "metadata": {
    "execution": {
     "iopub.execute_input": "2022-04-04T13:21:23.067822Z",
     "iopub.status.busy": "2022-04-04T13:21:23.044404Z",
     "iopub.status.idle": "2022-04-04T13:22:36.938630Z",
     "shell.execute_reply": "2022-04-04T13:22:36.940568Z",
     "shell.execute_reply.started": "2022-04-04T13:08:19.575087Z"
    },
    "papermill": {
     "duration": 73.938107,
     "end_time": "2022-04-04T13:22:36.941374",
     "exception": false,
     "start_time": "2022-04-04T13:21:23.003267",
     "status": "completed"
    },
    "tags": []
   },
   "outputs": [
    {
     "name": "stdout",
     "output_type": "stream",
     "text": [
      "The shape of scope transaction for 9 is (4156158, 4). \n",
      "\n"
     ]
    },
    {
     "ename": "FileNotFoundError",
     "evalue": "[Errno 2] No such file or directory: '../input/h-and-m-personalized-fashion-recommendations/sample_submission.csv'",
     "output_type": "error",
     "traceback": [
      "\u001b[0;31m---------------------------------------------------------------------------\u001b[0m",
      "\u001b[0;31mFileNotFoundError\u001b[0m                         Traceback (most recent call last)",
      "\u001b[1;32m/home/shared/aditya/h-m-eda-customer-clustering-by-kmeans.ipynb Cell 22'\u001b[0m in \u001b[0;36m<cell line: 1>\u001b[0;34m()\u001b[0m\n\u001b[1;32m     <a href='vscode-notebook-cell://ssh-remote%2B282-project/home/shared/aditya/h-m-eda-customer-clustering-by-kmeans.ipynb#ch0000021vscode-remote?line=72'>73</a>\u001b[0m purchase_df[\u001b[39m'\u001b[39m\u001b[39mprediction\u001b[39m\u001b[39m'\u001b[39m] \u001b[39m=\u001b[39m purchase_df[\u001b[39m'\u001b[39m\u001b[39mprediction\u001b[39m\u001b[39m'\u001b[39m]\u001b[39m.\u001b[39mstr\u001b[39m.\u001b[39mstrip()\n\u001b[1;32m     <a href='vscode-notebook-cell://ssh-remote%2B282-project/home/shared/aditya/h-m-eda-customer-clustering-by-kmeans.ipynb#ch0000021vscode-remote?line=73'>74</a>\u001b[0m purchase_df \u001b[39m=\u001b[39m cudf\u001b[39m.\u001b[39mDataFrame(purchase_df)\n\u001b[0;32m---> <a href='vscode-notebook-cell://ssh-remote%2B282-project/home/shared/aditya/h-m-eda-customer-clustering-by-kmeans.ipynb#ch0000021vscode-remote?line=75'>76</a>\u001b[0m sub  \u001b[39m=\u001b[39m cudf\u001b[39m.\u001b[39;49mread_csv(\u001b[39m'\u001b[39;49m\u001b[39m../input/h-and-m-personalized-fashion-recommendations/sample_submission.csv\u001b[39;49m\u001b[39m'\u001b[39;49m,\n\u001b[1;32m     <a href='vscode-notebook-cell://ssh-remote%2B282-project/home/shared/aditya/h-m-eda-customer-clustering-by-kmeans.ipynb#ch0000021vscode-remote?line=76'>77</a>\u001b[0m                         usecols\u001b[39m=\u001b[39;49m [\u001b[39m'\u001b[39;49m\u001b[39mcustomer_id\u001b[39;49m\u001b[39m'\u001b[39;49m], \n\u001b[1;32m     <a href='vscode-notebook-cell://ssh-remote%2B282-project/home/shared/aditya/h-m-eda-customer-clustering-by-kmeans.ipynb#ch0000021vscode-remote?line=77'>78</a>\u001b[0m                         dtype\u001b[39m=\u001b[39;49m{\u001b[39m'\u001b[39;49m\u001b[39mcustomer_id\u001b[39;49m\u001b[39m'\u001b[39;49m: \u001b[39m'\u001b[39;49m\u001b[39mstring\u001b[39;49m\u001b[39m'\u001b[39;49m})\n\u001b[1;32m     <a href='vscode-notebook-cell://ssh-remote%2B282-project/home/shared/aditya/h-m-eda-customer-clustering-by-kmeans.ipynb#ch0000021vscode-remote?line=79'>80</a>\u001b[0m numCustomers \u001b[39m=\u001b[39m sub\u001b[39m.\u001b[39mshape[\u001b[39m0\u001b[39m]\n\u001b[1;32m     <a href='vscode-notebook-cell://ssh-remote%2B282-project/home/shared/aditya/h-m-eda-customer-clustering-by-kmeans.ipynb#ch0000021vscode-remote?line=81'>82</a>\u001b[0m sub \u001b[39m=\u001b[39m sub\u001b[39m.\u001b[39mmerge(dfCustomersTemp[[\u001b[39m'\u001b[39m\u001b[39mcustomer_id\u001b[39m\u001b[39m'\u001b[39m, \u001b[39m'\u001b[39m\u001b[39mage\u001b[39m\u001b[39m'\u001b[39m]], on\u001b[39m=\u001b[39m\u001b[39m'\u001b[39m\u001b[39mcustomer_id\u001b[39m\u001b[39m'\u001b[39m, how\u001b[39m=\u001b[39m\u001b[39m'\u001b[39m\u001b[39minner\u001b[39m\u001b[39m'\u001b[39m)\n",
      "File \u001b[0;32m/opt/conda/envs/cs282/lib/python3.8/contextlib.py:75\u001b[0m, in \u001b[0;36mContextDecorator.__call__.<locals>.inner\u001b[0;34m(*args, **kwds)\u001b[0m\n\u001b[1;32m     <a href='file:///opt/conda/envs/cs282/lib/python3.8/contextlib.py?line=71'>72</a>\u001b[0m \u001b[39m@wraps\u001b[39m(func)\n\u001b[1;32m     <a href='file:///opt/conda/envs/cs282/lib/python3.8/contextlib.py?line=72'>73</a>\u001b[0m \u001b[39mdef\u001b[39;00m \u001b[39minner\u001b[39m(\u001b[39m*\u001b[39margs, \u001b[39m*\u001b[39m\u001b[39m*\u001b[39mkwds):\n\u001b[1;32m     <a href='file:///opt/conda/envs/cs282/lib/python3.8/contextlib.py?line=73'>74</a>\u001b[0m     \u001b[39mwith\u001b[39;00m \u001b[39mself\u001b[39m\u001b[39m.\u001b[39m_recreate_cm():\n\u001b[0;32m---> <a href='file:///opt/conda/envs/cs282/lib/python3.8/contextlib.py?line=74'>75</a>\u001b[0m         \u001b[39mreturn\u001b[39;00m func(\u001b[39m*\u001b[39;49margs, \u001b[39m*\u001b[39;49m\u001b[39m*\u001b[39;49mkwds)\n",
      "File \u001b[0;32m/opt/conda/envs/cs282/lib/python3.8/site-packages/cudf/io/csv.py:73\u001b[0m, in \u001b[0;36mread_csv\u001b[0;34m(filepath_or_buffer, lineterminator, quotechar, quoting, doublequote, header, mangle_dupe_cols, usecols, sep, delimiter, delim_whitespace, skipinitialspace, names, dtype, skipfooter, skiprows, dayfirst, compression, thousands, decimal, true_values, false_values, nrows, byte_range, skip_blank_lines, parse_dates, comment, na_values, keep_default_na, na_filter, prefix, index_col, use_python_file_object, **kwargs)\u001b[0m\n\u001b[1;32m     <a href='file:///opt/conda/envs/cs282/lib/python3.8/site-packages/cudf/io/csv.py?line=69'>70</a>\u001b[0m \u001b[39mif\u001b[39;00m na_values \u001b[39mis\u001b[39;00m \u001b[39mnot\u001b[39;00m \u001b[39mNone\u001b[39;00m \u001b[39mand\u001b[39;00m is_scalar(na_values):\n\u001b[1;32m     <a href='file:///opt/conda/envs/cs282/lib/python3.8/site-packages/cudf/io/csv.py?line=70'>71</a>\u001b[0m     na_values \u001b[39m=\u001b[39m [na_values]\n\u001b[0;32m---> <a href='file:///opt/conda/envs/cs282/lib/python3.8/site-packages/cudf/io/csv.py?line=72'>73</a>\u001b[0m \u001b[39mreturn\u001b[39;00m libcudf\u001b[39m.\u001b[39;49mcsv\u001b[39m.\u001b[39;49mread_csv(\n\u001b[1;32m     <a href='file:///opt/conda/envs/cs282/lib/python3.8/site-packages/cudf/io/csv.py?line=73'>74</a>\u001b[0m     filepath_or_buffer,\n\u001b[1;32m     <a href='file:///opt/conda/envs/cs282/lib/python3.8/site-packages/cudf/io/csv.py?line=74'>75</a>\u001b[0m     lineterminator\u001b[39m=\u001b[39;49mlineterminator,\n\u001b[1;32m     <a href='file:///opt/conda/envs/cs282/lib/python3.8/site-packages/cudf/io/csv.py?line=75'>76</a>\u001b[0m     quotechar\u001b[39m=\u001b[39;49mquotechar,\n\u001b[1;32m     <a href='file:///opt/conda/envs/cs282/lib/python3.8/site-packages/cudf/io/csv.py?line=76'>77</a>\u001b[0m     quoting\u001b[39m=\u001b[39;49mquoting,\n\u001b[1;32m     <a href='file:///opt/conda/envs/cs282/lib/python3.8/site-packages/cudf/io/csv.py?line=77'>78</a>\u001b[0m     doublequote\u001b[39m=\u001b[39;49mdoublequote,\n\u001b[1;32m     <a href='file:///opt/conda/envs/cs282/lib/python3.8/site-packages/cudf/io/csv.py?line=78'>79</a>\u001b[0m     header\u001b[39m=\u001b[39;49mheader,\n\u001b[1;32m     <a href='file:///opt/conda/envs/cs282/lib/python3.8/site-packages/cudf/io/csv.py?line=79'>80</a>\u001b[0m     mangle_dupe_cols\u001b[39m=\u001b[39;49mmangle_dupe_cols,\n\u001b[1;32m     <a href='file:///opt/conda/envs/cs282/lib/python3.8/site-packages/cudf/io/csv.py?line=80'>81</a>\u001b[0m     usecols\u001b[39m=\u001b[39;49musecols,\n\u001b[1;32m     <a href='file:///opt/conda/envs/cs282/lib/python3.8/site-packages/cudf/io/csv.py?line=81'>82</a>\u001b[0m     sep\u001b[39m=\u001b[39;49msep,\n\u001b[1;32m     <a href='file:///opt/conda/envs/cs282/lib/python3.8/site-packages/cudf/io/csv.py?line=82'>83</a>\u001b[0m     delimiter\u001b[39m=\u001b[39;49mdelimiter,\n\u001b[1;32m     <a href='file:///opt/conda/envs/cs282/lib/python3.8/site-packages/cudf/io/csv.py?line=83'>84</a>\u001b[0m     delim_whitespace\u001b[39m=\u001b[39;49mdelim_whitespace,\n\u001b[1;32m     <a href='file:///opt/conda/envs/cs282/lib/python3.8/site-packages/cudf/io/csv.py?line=84'>85</a>\u001b[0m     skipinitialspace\u001b[39m=\u001b[39;49mskipinitialspace,\n\u001b[1;32m     <a href='file:///opt/conda/envs/cs282/lib/python3.8/site-packages/cudf/io/csv.py?line=85'>86</a>\u001b[0m     names\u001b[39m=\u001b[39;49mnames,\n\u001b[1;32m     <a href='file:///opt/conda/envs/cs282/lib/python3.8/site-packages/cudf/io/csv.py?line=86'>87</a>\u001b[0m     dtype\u001b[39m=\u001b[39;49mdtype,\n\u001b[1;32m     <a href='file:///opt/conda/envs/cs282/lib/python3.8/site-packages/cudf/io/csv.py?line=87'>88</a>\u001b[0m     skipfooter\u001b[39m=\u001b[39;49mskipfooter,\n\u001b[1;32m     <a href='file:///opt/conda/envs/cs282/lib/python3.8/site-packages/cudf/io/csv.py?line=88'>89</a>\u001b[0m     skiprows\u001b[39m=\u001b[39;49mskiprows,\n\u001b[1;32m     <a href='file:///opt/conda/envs/cs282/lib/python3.8/site-packages/cudf/io/csv.py?line=89'>90</a>\u001b[0m     dayfirst\u001b[39m=\u001b[39;49mdayfirst,\n\u001b[1;32m     <a href='file:///opt/conda/envs/cs282/lib/python3.8/site-packages/cudf/io/csv.py?line=90'>91</a>\u001b[0m     compression\u001b[39m=\u001b[39;49mcompression,\n\u001b[1;32m     <a href='file:///opt/conda/envs/cs282/lib/python3.8/site-packages/cudf/io/csv.py?line=91'>92</a>\u001b[0m     thousands\u001b[39m=\u001b[39;49mthousands,\n\u001b[1;32m     <a href='file:///opt/conda/envs/cs282/lib/python3.8/site-packages/cudf/io/csv.py?line=92'>93</a>\u001b[0m     decimal\u001b[39m=\u001b[39;49mdecimal,\n\u001b[1;32m     <a href='file:///opt/conda/envs/cs282/lib/python3.8/site-packages/cudf/io/csv.py?line=93'>94</a>\u001b[0m     true_values\u001b[39m=\u001b[39;49mtrue_values,\n\u001b[1;32m     <a href='file:///opt/conda/envs/cs282/lib/python3.8/site-packages/cudf/io/csv.py?line=94'>95</a>\u001b[0m     false_values\u001b[39m=\u001b[39;49mfalse_values,\n\u001b[1;32m     <a href='file:///opt/conda/envs/cs282/lib/python3.8/site-packages/cudf/io/csv.py?line=95'>96</a>\u001b[0m     nrows\u001b[39m=\u001b[39;49mnrows,\n\u001b[1;32m     <a href='file:///opt/conda/envs/cs282/lib/python3.8/site-packages/cudf/io/csv.py?line=96'>97</a>\u001b[0m     byte_range\u001b[39m=\u001b[39;49mbyte_range,\n\u001b[1;32m     <a href='file:///opt/conda/envs/cs282/lib/python3.8/site-packages/cudf/io/csv.py?line=97'>98</a>\u001b[0m     skip_blank_lines\u001b[39m=\u001b[39;49mskip_blank_lines,\n\u001b[1;32m     <a href='file:///opt/conda/envs/cs282/lib/python3.8/site-packages/cudf/io/csv.py?line=98'>99</a>\u001b[0m     parse_dates\u001b[39m=\u001b[39;49mparse_dates,\n\u001b[1;32m    <a href='file:///opt/conda/envs/cs282/lib/python3.8/site-packages/cudf/io/csv.py?line=99'>100</a>\u001b[0m     comment\u001b[39m=\u001b[39;49mcomment,\n\u001b[1;32m    <a href='file:///opt/conda/envs/cs282/lib/python3.8/site-packages/cudf/io/csv.py?line=100'>101</a>\u001b[0m     na_values\u001b[39m=\u001b[39;49mna_values,\n\u001b[1;32m    <a href='file:///opt/conda/envs/cs282/lib/python3.8/site-packages/cudf/io/csv.py?line=101'>102</a>\u001b[0m     keep_default_na\u001b[39m=\u001b[39;49mkeep_default_na,\n\u001b[1;32m    <a href='file:///opt/conda/envs/cs282/lib/python3.8/site-packages/cudf/io/csv.py?line=102'>103</a>\u001b[0m     na_filter\u001b[39m=\u001b[39;49mna_filter,\n\u001b[1;32m    <a href='file:///opt/conda/envs/cs282/lib/python3.8/site-packages/cudf/io/csv.py?line=103'>104</a>\u001b[0m     prefix\u001b[39m=\u001b[39;49mprefix,\n\u001b[1;32m    <a href='file:///opt/conda/envs/cs282/lib/python3.8/site-packages/cudf/io/csv.py?line=104'>105</a>\u001b[0m     index_col\u001b[39m=\u001b[39;49mindex_col,\n\u001b[1;32m    <a href='file:///opt/conda/envs/cs282/lib/python3.8/site-packages/cudf/io/csv.py?line=105'>106</a>\u001b[0m )\n",
      "File \u001b[0;32mcudf/_lib/csv.pyx:402\u001b[0m, in \u001b[0;36mcudf._lib.csv.read_csv\u001b[0;34m()\u001b[0m\n",
      "\u001b[0;31mFileNotFoundError\u001b[0m: [Errno 2] No such file or directory: '../input/h-and-m-personalized-fashion-recommendations/sample_submission.csv'"
     ]
    }
   ],
   "source": [
    "for uniBin in listUniBins:\n",
    "    df  = cudf.read_csv('dataset/transactions_train.csv',\n",
    "                            usecols= ['t_dat', 'customer_id', 'article_id'], \n",
    "                            dtype={'article_id': 'int32', 't_dat': 'string', 'customer_id': 'string'})\n",
    "    if str(uniBin) == 'nan':\n",
    "        dfCustomersTemp = dfCustomers[dfCustomers['pred'].isnull()]\n",
    "    else:\n",
    "        dfCustomersTemp = dfCustomers[dfCustomers['pred'] == uniBin]\n",
    "    \n",
    "    dfCustomersTemp = dfCustomersTemp.drop(['pred'], axis=1)\n",
    "    dfCustomersTemp = cudf.from_pandas(dfCustomersTemp)\n",
    "    \n",
    "    df = df.merge(dfCustomersTemp[['customer_id', 'age']], on='customer_id', how='inner')\n",
    "    print(f'The shape of scope transaction for {uniBin} is {df.shape}. \\n')\n",
    "          \n",
    "    df ['customer_id'] = df ['customer_id'].str[-16:].str.hex_to_int().astype('int64')\n",
    "    df['t_dat'] = cudf.to_datetime(df['t_dat'])\n",
    "    last_ts = df['t_dat'].max()\n",
    "\n",
    "    tmp = df[['t_dat']].copy().to_pandas()\n",
    "    tmp['dow'] = tmp['t_dat'].dt.dayofweek\n",
    "    tmp['ldbw'] = tmp['t_dat'] - pd.TimedeltaIndex(tmp['dow'] - 1, unit='D')\n",
    "    tmp.loc[tmp['dow'] >=2 , 'ldbw'] = tmp.loc[tmp['dow'] >=2 , 'ldbw'] + pd.TimedeltaIndex(np.ones(len(tmp.loc[tmp['dow'] >=2])) * 7, unit='D')\n",
    "\n",
    "    df['ldbw'] = tmp['ldbw'].values\n",
    "    \n",
    "    weekly_sales = df.drop('customer_id', axis=1).groupby(['ldbw', 'article_id']).count().reset_index()\n",
    "    weekly_sales = weekly_sales.rename(columns={'t_dat': 'count'})\n",
    "    \n",
    "    df = df.merge(weekly_sales, on=['ldbw', 'article_id'], how = 'left')\n",
    "    \n",
    "    weekly_sales = weekly_sales.reset_index().set_index('article_id')\n",
    "\n",
    "    df = df.merge(\n",
    "        weekly_sales.loc[weekly_sales['ldbw']==last_ts, ['count']],\n",
    "        on='article_id', suffixes=(\"\", \"_targ\"))\n",
    "\n",
    "    df['count_targ'].fillna(0, inplace=True)\n",
    "    del weekly_sales\n",
    "    \n",
    "    df['quotient'] = df['count_targ'] / df['count']\n",
    "    \n",
    "    target_sales = df.drop('customer_id', axis=1).groupby('article_id')['quotient'].sum()\n",
    "    general_pred = target_sales.nlargest(N).index.to_pandas().tolist()\n",
    "    general_pred = ['0' + str(article_id) for article_id in general_pred]\n",
    "    general_pred_str =  ' '.join(general_pred)\n",
    "    del target_sales\n",
    "    \n",
    "    purchase_dict = {}\n",
    "\n",
    "    tmp = df.copy().to_pandas()\n",
    "    tmp['x'] = ((last_ts - tmp['t_dat']) / np.timedelta64(1, 'D')).astype(int)\n",
    "    tmp['dummy_1'] = 1 \n",
    "    tmp['x'] = tmp[[\"x\", \"dummy_1\"]].max(axis=1)\n",
    "\n",
    "    a, b, c, d = 2.5e4, 1.5e5, 2e-1, 1e3\n",
    "    tmp['y'] = a / np.sqrt(tmp['x']) + b * np.exp(-c*tmp['x']) - d\n",
    "\n",
    "    tmp['dummy_0'] = 0 \n",
    "    tmp['y'] = tmp[[\"y\", \"dummy_0\"]].max(axis=1)\n",
    "    tmp['value'] = tmp['quotient'] * tmp['y'] \n",
    "\n",
    "    tmp = tmp.groupby(['customer_id', 'article_id']).agg({'value': 'sum'})\n",
    "    tmp = tmp.reset_index()\n",
    "\n",
    "    tmp = tmp.loc[tmp['value'] > 0]\n",
    "    tmp['rank'] = tmp.groupby(\"customer_id\")[\"value\"].rank(\"dense\", ascending=False)\n",
    "    tmp = tmp.loc[tmp['rank'] <= 12]\n",
    "\n",
    "    purchase_df = tmp.sort_values(['customer_id', 'value'], ascending = False).reset_index(drop = True)\n",
    "    purchase_df['prediction'] = '0' + purchase_df['article_id'].astype(str) + ' '\n",
    "    purchase_df = purchase_df.groupby('customer_id').agg({'prediction': sum}).reset_index()\n",
    "    purchase_df['prediction'] = purchase_df['prediction'].str.strip()\n",
    "    purchase_df = cudf.DataFrame(purchase_df)\n",
    "    \n",
    "    sub  = cudf.read_csv('../input/h-and-m-personalized-fashion-recommendations/sample_submission.csv',\n",
    "                            usecols= ['customer_id'], \n",
    "                            dtype={'customer_id': 'string'})\n",
    "    \n",
    "    numCustomers = sub.shape[0]\n",
    "    \n",
    "    sub = sub.merge(dfCustomersTemp[['customer_id', 'age']], on='customer_id', how='inner')\n",
    "\n",
    "    sub['customer_id2'] = sub['customer_id'].str[-16:].str.hex_to_int().astype('int64')\n",
    "\n",
    "    sub = sub.merge(purchase_df, left_on = 'customer_id2', right_on = 'customer_id', how = 'left',\n",
    "                   suffixes = ('', '_ignored'))\n",
    "\n",
    "    sub = sub.to_pandas()\n",
    "    sub['prediction'] = sub['prediction'].fillna(general_pred_str)\n",
    "    sub['prediction'] = sub['prediction'] + ' ' +  general_pred_str\n",
    "    sub['prediction'] = sub['prediction'].str.strip()\n",
    "    sub['prediction'] = sub['prediction'].str[:131]\n",
    "    sub = sub[['customer_id', 'prediction']]\n",
    "    sub.to_csv(f'submission_' + str(uniBin) + '.csv',index=False)\n",
    "    print(f'Saved prediction for {uniBin}. The shape is {sub.shape}. \\n')\n",
    "    print('-'*50)\n",
    "print('Finished.\\n')\n",
    "print('='*50)"
   ]
  },
  {
   "cell_type": "markdown",
   "id": "56ccf7d1",
   "metadata": {
    "papermill": {
     "duration": 0.073656,
     "end_time": "2022-04-04T13:22:37.098715",
     "exception": false,
     "start_time": "2022-04-04T13:22:37.025059",
     "status": "completed"
    },
    "tags": []
   },
   "source": [
    "## 6.Submission"
   ]
  },
  {
   "cell_type": "code",
   "execution_count": null,
   "id": "5802cd57",
   "metadata": {
    "execution": {
     "iopub.execute_input": "2022-04-04T13:22:37.253005Z",
     "iopub.status.busy": "2022-04-04T13:22:37.251988Z",
     "iopub.status.idle": "2022-04-04T13:22:38.517590Z",
     "shell.execute_reply": "2022-04-04T13:22:38.516874Z",
     "shell.execute_reply.started": "2022-04-04T13:09:35.972344Z"
    },
    "papermill": {
     "duration": 1.346921,
     "end_time": "2022-04-04T13:22:38.517737",
     "exception": false,
     "start_time": "2022-04-04T13:22:37.170816",
     "status": "completed"
    },
    "tags": []
   },
   "outputs": [
    {
     "name": "stdout",
     "output_type": "stream",
     "text": [
      "Saved submission.csv.\n"
     ]
    }
   ],
   "source": [
    "for i, uniBin in enumerate(listUniBins):\n",
    "    dfTemp  = cudf.read_csv(f'submission_' + str(uniBin) + '.csv')\n",
    "    if i == 0:\n",
    "        dfSub = dfTemp\n",
    "    else:\n",
    "        dfSub = cudf.concat([dfSub, dfTemp], axis=0)\n",
    "\n",
    "assert dfSub.shape[0] == numCustomers, f'The number of dfSub rows is not correct. {dfSub.shape[0]} vs {numCustomers}.'\n",
    "\n",
    "dfSub.to_csv(f'submission.csv', index=False)\n",
    "print(f'Saved submission.csv.')"
   ]
  },
  {
   "cell_type": "code",
   "execution_count": null,
   "id": "a18d6337",
   "metadata": {
    "execution": {
     "iopub.execute_input": "2022-04-04T13:22:38.610209Z",
     "iopub.status.busy": "2022-04-04T13:22:38.609033Z",
     "iopub.status.idle": "2022-04-04T13:22:38.804880Z",
     "shell.execute_reply": "2022-04-04T13:22:38.805509Z",
     "shell.execute_reply.started": "2022-04-04T13:09:37.262616Z"
    },
    "papermill": {
     "duration": 0.245729,
     "end_time": "2022-04-04T13:22:38.805691",
     "exception": false,
     "start_time": "2022-04-04T13:22:38.559962",
     "status": "completed"
    },
    "tags": []
   },
   "outputs": [
    {
     "data": {
      "text/html": [
       "<div>\n",
       "<style scoped>\n",
       "    .dataframe tbody tr th:only-of-type {\n",
       "        vertical-align: middle;\n",
       "    }\n",
       "\n",
       "    .dataframe tbody tr th {\n",
       "        vertical-align: top;\n",
       "    }\n",
       "\n",
       "    .dataframe thead th {\n",
       "        text-align: right;\n",
       "    }\n",
       "</style>\n",
       "<table border=\"1\" class=\"dataframe\">\n",
       "  <thead>\n",
       "    <tr style=\"text-align: right;\">\n",
       "      <th></th>\n",
       "      <th>customer_id</th>\n",
       "      <th>prediction</th>\n",
       "    </tr>\n",
       "  </thead>\n",
       "  <tbody>\n",
       "    <tr>\n",
       "      <th>0</th>\n",
       "      <td>189b974268b7e957ea822d3f6f82f48c5cb5b751f1cec3...</td>\n",
       "      <td>0916000003 0806388002 0865929002 0865929003 05...</td>\n",
       "    </tr>\n",
       "    <tr>\n",
       "      <th>1</th>\n",
       "      <td>179c41619529dd7de9761c51dcfae9cf586a5cbdaaedec...</td>\n",
       "      <td>0182909001 0751471001 0448509014 0706016001 05...</td>\n",
       "    </tr>\n",
       "    <tr>\n",
       "      <th>2</th>\n",
       "      <td>17db469a3d01b8b8c888a6ec4e5fbfbbc6a83ff3d42cc5...</td>\n",
       "      <td>0562245112 0808748001 0751471001 0448509014 07...</td>\n",
       "    </tr>\n",
       "    <tr>\n",
       "      <th>3</th>\n",
       "      <td>189c3a74532c7840d3110e6e081e896e4fd03a14be4334...</td>\n",
       "      <td>0673677002 0678942001 0673677012 0673677004 07...</td>\n",
       "    </tr>\n",
       "    <tr>\n",
       "      <th>4</th>\n",
       "      <td>179c4943faf4dc8f8b1938d423249cdaad3f44f6832c0e...</td>\n",
       "      <td>0562245050 0399256005 0573716012 0751471001 04...</td>\n",
       "    </tr>\n",
       "  </tbody>\n",
       "</table>\n",
       "</div>"
      ],
      "text/plain": [
       "                                         customer_id  \\\n",
       "0  189b974268b7e957ea822d3f6f82f48c5cb5b751f1cec3...   \n",
       "1  179c41619529dd7de9761c51dcfae9cf586a5cbdaaedec...   \n",
       "2  17db469a3d01b8b8c888a6ec4e5fbfbbc6a83ff3d42cc5...   \n",
       "3  189c3a74532c7840d3110e6e081e896e4fd03a14be4334...   \n",
       "4  179c4943faf4dc8f8b1938d423249cdaad3f44f6832c0e...   \n",
       "\n",
       "                                          prediction  \n",
       "0  0916000003 0806388002 0865929002 0865929003 05...  \n",
       "1  0182909001 0751471001 0448509014 0706016001 05...  \n",
       "2  0562245112 0808748001 0751471001 0448509014 07...  \n",
       "3  0673677002 0678942001 0673677012 0673677004 07...  \n",
       "4  0562245050 0399256005 0573716012 0751471001 04...  "
      ]
     },
     "execution_count": 16,
     "metadata": {},
     "output_type": "execute_result"
    }
   ],
   "source": [
    "dfCheck = cudf.read_csv('./submission.csv')\n",
    "dfCheck.head()"
   ]
  },
  {
   "cell_type": "code",
   "execution_count": null,
   "id": "3993bc70",
   "metadata": {
    "papermill": {
     "duration": 0.041675,
     "end_time": "2022-04-04T13:22:38.890099",
     "exception": false,
     "start_time": "2022-04-04T13:22:38.848424",
     "status": "completed"
    },
    "tags": []
   },
   "outputs": [],
   "source": []
  }
 ],
 "metadata": {
  "kernelspec": {
   "display_name": "Python 3",
   "language": "python",
   "name": "python3"
  },
  "language_info": {
   "codemirror_mode": {
    "name": "ipython",
    "version": 3
   },
   "file_extension": ".py",
   "mimetype": "text/x-python",
   "name": "python",
   "nbconvert_exporter": "python",
   "pygments_lexer": "ipython3",
   "version": "3.8.13"
  },
  "papermill": {
   "default_parameters": {},
   "duration": 168.745363,
   "end_time": "2022-04-04T13:22:41.344802",
   "environment_variables": {},
   "exception": null,
   "input_path": "__notebook__.ipynb",
   "output_path": "__notebook__.ipynb",
   "parameters": {},
   "start_time": "2022-04-04T13:19:52.599439",
   "version": "2.3.3"
  }
 },
 "nbformat": 4,
 "nbformat_minor": 5
}
