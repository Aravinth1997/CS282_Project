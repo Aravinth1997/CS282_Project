{
 "cells": [
  {
   "cell_type": "code",
   "execution_count": 1,
   "metadata": {},
   "outputs": [],
   "source": [
    "import numpy as np\n",
    "import pandas as pd\n",
    "import scipy.linalg\n",
    "import sys"
   ]
  },
  {
   "cell_type": "code",
   "execution_count": null,
   "metadata": {},
   "outputs": [],
   "source": [
    "articles = pd.read_csv(\"../dataset/articles.csv\")\n",
    "customers = pd.read_csv(\"../dataset/customers.csv\")\n",
    "transactions = pd.read_csv(\"../dataset/transactions_train.csv\")"
   ]
  },
  {
   "cell_type": "code",
   "execution_count": null,
   "metadata": {},
   "outputs": [
    {
     "name": "stdout",
     "output_type": "stream",
     "text": [
      "[108775015 108775044 108775051 ... 956217002 957375001 959461001]\n"
     ]
    }
   ],
   "source": [
    "article_ids = articles['article_id'].unique()\n",
    "article_ids.sort()\n",
    "print(article_ids)"
   ]
  },
  {
   "cell_type": "code",
   "execution_count": null,
   "metadata": {},
   "outputs": [
    {
     "name": "stdout",
     "output_type": "stream",
     "text": [
      "['00000dbacae5abe5e23885899a1fa44253a17956c6d1c3d25f88aa139fdfc657'\n",
      " '0000423b00ade91418cceaf3b26c6af3dd342b51fd051eec9c12fb36984420fa'\n",
      " '000058a12d5b43e67d225668fa1f8d618c13dc232df0cad8ffe7ad4a1091e318' ...\n",
      " 'ffffcf35913a0bee60e8741cb2b4e78b8a98ee5ff2e6a1778d0116cffd259264'\n",
      " 'ffffd7744cebcf3aca44ae7049d2a94b87074c3d4ffe38b2236865d949d4df6a'\n",
      " 'ffffd9ac14e89946416d80e791d064701994755c3ab686a1eaf3458c36f52241']\n"
     ]
    }
   ],
   "source": [
    "customer_ids = customers['customer_id'].unique()\n",
    "customer_ids.sort()\n",
    "print(customer_ids)"
   ]
  },
  {
   "cell_type": "code",
   "execution_count": null,
   "metadata": {},
   "outputs": [
    {
     "name": "stdout",
     "output_type": "stream",
     "text": [
      "Total Users: 1371980 and Total Items: 105542\n"
     ]
    }
   ],
   "source": [
    "n = len(customer_ids)\n",
    "m = len(article_ids)\n",
    "print(\"Total Users: {} and Total Items: {}\".format(n,m))"
   ]
  },
  {
   "cell_type": "code",
   "execution_count": 7,
   "metadata": {},
   "outputs": [],
   "source": []
  },
  {
   "cell_type": "code",
   "execution_count": 9,
   "metadata": {},
   "outputs": [
    {
     "data": {
      "text/plain": [
       "5000000120"
      ]
     },
     "execution_count": 9,
     "metadata": {},
     "output_type": "execute_result"
    }
   ],
   "source": [
    "sys.getsizeof(np.zeros((25000,25000))) #5GB 25K items"
   ]
  },
  {
   "cell_type": "code",
   "execution_count": 22,
   "metadata": {},
   "outputs": [],
   "source": [
    "txn_agg_df = transactions.groupby(['article_id','customer_id']).count()"
   ]
  },
  {
   "cell_type": "code",
   "execution_count": 23,
   "metadata": {},
   "outputs": [
    {
     "data": {
      "text/html": [
       "<div>\n",
       "<style scoped>\n",
       "    .dataframe tbody tr th:only-of-type {\n",
       "        vertical-align: middle;\n",
       "    }\n",
       "\n",
       "    .dataframe tbody tr th {\n",
       "        vertical-align: top;\n",
       "    }\n",
       "\n",
       "    .dataframe thead th {\n",
       "        text-align: right;\n",
       "    }\n",
       "</style>\n",
       "<table border=\"1\" class=\"dataframe\">\n",
       "  <thead>\n",
       "    <tr style=\"text-align: right;\">\n",
       "      <th></th>\n",
       "      <th></th>\n",
       "      <th>t_dat</th>\n",
       "      <th>price</th>\n",
       "      <th>sales_channel_id</th>\n",
       "    </tr>\n",
       "    <tr>\n",
       "      <th>article_id</th>\n",
       "      <th>customer_id</th>\n",
       "      <th></th>\n",
       "      <th></th>\n",
       "      <th></th>\n",
       "    </tr>\n",
       "  </thead>\n",
       "  <tbody>\n",
       "    <tr>\n",
       "      <th rowspan=\"5\" valign=\"top\">108775015</th>\n",
       "      <th>000f7535bdc611ad136a9f04746d6b1431f50a7f60fbbed14ea401d602badb69</th>\n",
       "      <td>3</td>\n",
       "      <td>3</td>\n",
       "      <td>3</td>\n",
       "    </tr>\n",
       "    <tr>\n",
       "      <th>001ae5408a043f64bccd32beffe2730151414cbdf18a6eb3cc8d30bdca605652</th>\n",
       "      <td>2</td>\n",
       "      <td>2</td>\n",
       "      <td>2</td>\n",
       "    </tr>\n",
       "    <tr>\n",
       "      <th>001ba9e81e13ce12a2585d9ebde923fe74429e9e12ea59f4f28a96267597fe52</th>\n",
       "      <td>1</td>\n",
       "      <td>1</td>\n",
       "      <td>1</td>\n",
       "    </tr>\n",
       "    <tr>\n",
       "      <th>0022a721371d5949d174ecba60346d89a9d6c08c0fba4f47b3b1e66b3fb58fd8</th>\n",
       "      <td>2</td>\n",
       "      <td>2</td>\n",
       "      <td>2</td>\n",
       "    </tr>\n",
       "    <tr>\n",
       "      <th>002323971cbd38fad4512d5114676e5e17eb262db02320419b45cc86ec09af87</th>\n",
       "      <td>1</td>\n",
       "      <td>1</td>\n",
       "      <td>1</td>\n",
       "    </tr>\n",
       "    <tr>\n",
       "      <th>...</th>\n",
       "      <th>...</th>\n",
       "      <td>...</td>\n",
       "      <td>...</td>\n",
       "      <td>...</td>\n",
       "    </tr>\n",
       "    <tr>\n",
       "      <th rowspan=\"5\" valign=\"top\">956217002</th>\n",
       "      <th>be1981ab818cf4ef6765b2ecaea7a2cbf14ccd6e8a7ee985513d9e8e53c6d91b</th>\n",
       "      <td>1</td>\n",
       "      <td>1</td>\n",
       "      <td>1</td>\n",
       "    </tr>\n",
       "    <tr>\n",
       "      <th>c89698e2626f3d98d8496e673c89ece5a8ee92914ee92d11e2710713f83025a5</th>\n",
       "      <td>1</td>\n",
       "      <td>1</td>\n",
       "      <td>1</td>\n",
       "    </tr>\n",
       "    <tr>\n",
       "      <th>cedd533807afaef98ca626a771d8c14986de84bdb43743e5c5b89529bdae329c</th>\n",
       "      <td>1</td>\n",
       "      <td>1</td>\n",
       "      <td>1</td>\n",
       "    </tr>\n",
       "    <tr>\n",
       "      <th>d51d1c7b07110ba2571d22849c1fdb7e61d7cbc1d58adad074cbb1eb3e286047</th>\n",
       "      <td>1</td>\n",
       "      <td>1</td>\n",
       "      <td>1</td>\n",
       "    </tr>\n",
       "    <tr>\n",
       "      <th>e2731ecc3fb093e25d17348a02a34124c05cd960e9ebd34ea4571970c4e626bd</th>\n",
       "      <td>1</td>\n",
       "      <td>1</td>\n",
       "      <td>1</td>\n",
       "    </tr>\n",
       "  </tbody>\n",
       "</table>\n",
       "<p>27306439 rows × 3 columns</p>\n",
       "</div>"
      ],
      "text/plain": [
       "                                                               t_dat  price  \\\n",
       "article_id customer_id                                                        \n",
       "108775015  000f7535bdc611ad136a9f04746d6b1431f50a7f60fbbed...      3      3   \n",
       "           001ae5408a043f64bccd32beffe2730151414cbdf18a6eb...      2      2   \n",
       "           001ba9e81e13ce12a2585d9ebde923fe74429e9e12ea59f...      1      1   \n",
       "           0022a721371d5949d174ecba60346d89a9d6c08c0fba4f4...      2      2   \n",
       "           002323971cbd38fad4512d5114676e5e17eb262db023204...      1      1   \n",
       "...                                                              ...    ...   \n",
       "956217002  be1981ab818cf4ef6765b2ecaea7a2cbf14ccd6e8a7ee98...      1      1   \n",
       "           c89698e2626f3d98d8496e673c89ece5a8ee92914ee92d1...      1      1   \n",
       "           cedd533807afaef98ca626a771d8c14986de84bdb43743e...      1      1   \n",
       "           d51d1c7b07110ba2571d22849c1fdb7e61d7cbc1d58adad...      1      1   \n",
       "           e2731ecc3fb093e25d17348a02a34124c05cd960e9ebd34...      1      1   \n",
       "\n",
       "                                                               sales_channel_id  \n",
       "article_id customer_id                                                           \n",
       "108775015  000f7535bdc611ad136a9f04746d6b1431f50a7f60fbbed...                 3  \n",
       "           001ae5408a043f64bccd32beffe2730151414cbdf18a6eb...                 2  \n",
       "           001ba9e81e13ce12a2585d9ebde923fe74429e9e12ea59f...                 1  \n",
       "           0022a721371d5949d174ecba60346d89a9d6c08c0fba4f4...                 2  \n",
       "           002323971cbd38fad4512d5114676e5e17eb262db023204...                 1  \n",
       "...                                                                         ...  \n",
       "956217002  be1981ab818cf4ef6765b2ecaea7a2cbf14ccd6e8a7ee98...                 1  \n",
       "           c89698e2626f3d98d8496e673c89ece5a8ee92914ee92d1...                 1  \n",
       "           cedd533807afaef98ca626a771d8c14986de84bdb43743e...                 1  \n",
       "           d51d1c7b07110ba2571d22849c1fdb7e61d7cbc1d58adad...                 1  \n",
       "           e2731ecc3fb093e25d17348a02a34124c05cd960e9ebd34...                 1  \n",
       "\n",
       "[27306439 rows x 3 columns]"
      ]
     },
     "execution_count": 23,
     "metadata": {},
     "output_type": "execute_result"
    }
   ],
   "source": [
    "txn_agg_df"
   ]
  },
  {
   "cell_type": "code",
   "execution_count": 26,
   "metadata": {},
   "outputs": [
    {
     "data": {
      "text/plain": [
       "0.01885784091898781"
      ]
     },
     "execution_count": 26,
     "metadata": {},
     "output_type": "execute_result"
    }
   ],
   "source": [
    "(27306439/(1371980*105542))*100"
   ]
  },
  {
   "cell_type": "code",
   "execution_count": null,
   "metadata": {},
   "outputs": [],
   "source": []
  }
 ],
 "metadata": {
  "interpreter": {
   "hash": "ef569c18a6a16608660703877892b5661d456e340918289779a03ece56caf833"
  },
  "kernelspec": {
   "display_name": "Python 3.8.13 ('cs282')",
   "language": "python",
   "name": "python3"
  },
  "language_info": {
   "codemirror_mode": {
    "name": "ipython",
    "version": 3
   },
   "file_extension": ".py",
   "mimetype": "text/x-python",
   "name": "python",
   "nbconvert_exporter": "python",
   "pygments_lexer": "ipython3",
   "version": "3.8.13"
  },
  "orig_nbformat": 4
 },
 "nbformat": 4,
 "nbformat_minor": 2
}
