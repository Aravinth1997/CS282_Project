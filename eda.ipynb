{
 "cells": [
  {
   "cell_type": "code",
   "execution_count": 7,
   "metadata": {},
   "outputs": [
    {
     "name": "stderr",
     "output_type": "stream",
     "text": [
      "/opt/conda/envs/cs282/lib/python3.8/site-packages/tqdm/auto.py:22: TqdmWarning: IProgress not found. Please update jupyter and ipywidgets. See https://ipywidgets.readthedocs.io/en/stable/user_install.html\n",
      "  from .autonotebook import tqdm as notebook_tqdm\n"
     ]
    }
   ],
   "source": [
    "import pandas as pd\n",
    "from pandas_profiling import ProfileReport"
   ]
  },
  {
   "cell_type": "code",
   "execution_count": 2,
   "metadata": {},
   "outputs": [],
   "source": [
    "articles = pd.read_csv(\"../dataset/articles.csv\")\n",
    "customers = pd.read_csv(\"../dataset/customers.csv\")\n",
    "transactions = pd.read_csv(\"../dataset/transactions_train.csv\")"
   ]
  },
  {
   "cell_type": "markdown",
   "metadata": {},
   "source": [
    "Create the user-item matrix"
   ]
  },
  {
   "cell_type": "code",
   "execution_count": 12,
   "metadata": {},
   "outputs": [],
   "source": [
    "articles_profile = ProfileReport(articles, title=\"Articles Profiling Report\", explorative=True)\n",
    "transactions_profile = ProfileReport(transactions, title=\"Transactions Profiling Report\", explorative=True)\n",
    "customers_profile = ProfileReport(customers, title=\"Customers Profiling Report\", explorative=True)"
   ]
  },
  {
   "cell_type": "code",
   "execution_count": 11,
   "metadata": {},
   "outputs": [
    {
     "name": "stderr",
     "output_type": "stream",
     "text": [
      "Summarize dataset: 100%|██████████| 139/139 [00:25<00:00,  5.39it/s, Completed]                                                    \n",
      "Generate report structure: 100%|██████████| 1/1 [00:05<00:00,  5.64s/it]\n",
      "Render HTML: 100%|██████████| 1/1 [00:03<00:00,  3.09s/it]\n",
      "Export report to file: 100%|██████████| 1/1 [00:00<00:00, 90.44it/s]\n"
     ]
    }
   ],
   "source": [
    "articles_profile.to_file('Article_Report.html')"
   ]
  },
  {
   "cell_type": "code",
   "execution_count": 13,
   "metadata": {},
   "outputs": [
    {
     "name": "stderr",
     "output_type": "stream",
     "text": [
      "Summarize dataset: 100%|██████████| 23/23 [00:51<00:00,  2.23s/it, Completed]                              \n",
      "Generate report structure: 100%|██████████| 1/1 [00:01<00:00,  1.87s/it]\n",
      "Render HTML: 100%|██████████| 1/1 [00:00<00:00,  2.97it/s]\n",
      "Export report to file: 100%|██████████| 1/1 [00:00<00:00, 314.30it/s]\n"
     ]
    }
   ],
   "source": [
    "customers_profile.to_file('Customer_Report.html')"
   ]
  },
  {
   "cell_type": "code",
   "execution_count": 14,
   "metadata": {},
   "outputs": [
    {
     "name": "stderr",
     "output_type": "stream",
     "text": [
      "Summarize dataset:  50%|█████     | 8/16 [03:45<01:30, 11.30s/it, Calculate kendall correlation]      /opt/conda/envs/cs282/lib/python3.8/site-packages/scipy/stats/_stats_py.py:4868: RuntimeWarning: overflow encountered in long_scalars\n",
      "  (2 * xtie * ytie) / m + x0 * y0 / (9 * m * (size - 2)))\n",
      "Summarize dataset: 100%|██████████| 22/22 [06:01<00:00, 16.45s/it, Completed]                     \n",
      "Generate report structure: 100%|██████████| 1/1 [00:01<00:00,  1.31s/it]\n",
      "Render HTML: 100%|██████████| 1/1 [00:00<00:00,  2.67it/s]\n",
      "Export report to file: 100%|██████████| 1/1 [00:00<00:00, 200.04it/s]\n"
     ]
    }
   ],
   "source": [
    "transactions_profile.to_file('Transactions_Report.html')"
   ]
  }
 ],
 "metadata": {
  "interpreter": {
   "hash": "ef569c18a6a16608660703877892b5661d456e340918289779a03ece56caf833"
  },
  "kernelspec": {
   "display_name": "Python 3.8.13 ('cs282')",
   "language": "python",
   "name": "python3"
  },
  "language_info": {
   "codemirror_mode": {
    "name": "ipython",
    "version": 3
   },
   "file_extension": ".py",
   "mimetype": "text/x-python",
   "name": "python",
   "nbconvert_exporter": "python",
   "pygments_lexer": "ipython3",
   "version": "3.8.13"
  },
  "orig_nbformat": 4
 },
 "nbformat": 4,
 "nbformat_minor": 2
}
